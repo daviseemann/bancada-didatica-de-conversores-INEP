{
 "cells": [
  {
   "cell_type": "code",
   "execution_count": 1,
   "id": "accessible-spread",
   "metadata": {},
   "outputs": [
    {
     "data": {
      "text/html": [
       "<script>$(\"div.input\").hide()</script>"
      ],
      "text/plain": [
       "<IPython.core.display.HTML object>"
      ]
     },
     "metadata": {},
     "output_type": "display_data"
    },
    {
     "data": {
      "application/vnd.jupyter.widget-view+json": {
       "model_id": "f7b30b7dd4e24e339dba0b80ba470e26",
       "version_major": 2,
       "version_minor": 0
      },
      "text/plain": [
       "ToggleButton(value=False, description='Show code')"
      ]
     },
     "metadata": {},
     "output_type": "display_data"
    }
   ],
   "source": [
    "import ipywidgets as widgets\n",
    "from IPython.display import display, HTML\n",
    "\n",
    "javascript_functions = {False: \"hide()\", True: \"show()\"}\n",
    "button_descriptions  = {False: \"Show code\", True: \"Hide code\"}\n",
    "\n",
    "\n",
    "def toggle_code(state):\n",
    "\n",
    "    \"\"\"\n",
    "    Toggles the JavaScript show()/hide() function on the div.input element.\n",
    "    \"\"\"\n",
    "\n",
    "    output_string = \"<script>$(\\\"div.input\\\").{}</script>\"\n",
    "    output_args   = (javascript_functions[state],)\n",
    "    output        = output_string.format(*output_args)\n",
    "\n",
    "    display(HTML(output))\n",
    "\n",
    "\n",
    "def button_action(value):\n",
    "\n",
    "    \"\"\"\n",
    "    Calls the toggle_code function and updates the button description.\n",
    "    \"\"\"\n",
    "\n",
    "    state = value.new\n",
    "\n",
    "    toggle_code(state)\n",
    "\n",
    "    value.owner.description = button_descriptions[state]\n",
    "\n",
    "\n",
    "state = False\n",
    "toggle_code(state)\n",
    "\n",
    "button = widgets.ToggleButton(state, description = button_descriptions[state])\n",
    "button.observe(button_action, \"value\")\n",
    "\n",
    "display(button)"
   ]
  },
  {
   "cell_type": "markdown",
   "id": "popular-youth",
   "metadata": {},
   "source": [
    "Buck Converter\n",
    "=========\n",
    "#### Conversor abaixador\n",
    "\n",
    "O conversor de buck tem uma estrutura simples e de operação direta, uma ótima opção de conversor CC-CC PWM. A tensão de saída de um conversor buck é sempre menor que a tensão de entrada, por isso ele é conhecido também como conversor abaixador.\n",
    "\n",
    "O conversor buck é composto por uma fonte de tensão contínua, um transistor que funciona como uma chave, um diodo, um indutor, um capacitor e a carga. A chave irá controlar em qual estado estará o circuito, on-time ou off-time. Durante o período on-time, a chave é fechada e o diodo está no estado desligado. Neste intervalo a fonte de tensão transfere energia para o indutor e a corrente sobre ele aumenta. Já no período off-time, a chave estará aberta e o diodo ligado. Assim, a energia armazenada no indutor é liberada para a carga e a corrente no indutor diminui. \n",
    "\n",
    "O estado estacionário no conversor é atingido quando a transferência de energia dentro do tempo torna-se a mesma que a liberação de energia fora do tempo. Nesse estado a corrente no indutor estabele uma forma de onda triangular periódica e a tensão de saída torna-se quase constante com um pequeno componente de ondulação. "
   ]
  },
  {
   "attachments": {
    "buck.png": {
     "image/png": "[encoded data removed]"
    }
   },
   "cell_type": "markdown",
   "id": "broad-nation",
   "metadata": {},
   "source": [
    "#### Esquemático de um conversor buck\n",
    "\n",
    "![buck.png](attachment:buck.png)"
   ]
  },
  {
   "cell_type": "markdown",
   "id": "alike-ballet",
   "metadata": {},
   "source": [
    "#### Ganho estático do conversor \n",
    "\n"
   ]
  },
  {
   "cell_type": "markdown",
   "id": "south-greeting",
   "metadata": {},
   "source": [
    "#### Etapas do projeto:\n",
    "\n",
    "  1. Definir parâmetros de projeto (Vin, Vout, Po, fs, variação de IL e de Vc)\n",
    "  2. Calcular a razão cíclica (D=Vout/Vin)\n",
    "  3. Calcular indutância (L=(Vin - Vout).D/fs.(variação de IL)\n",
    "  4. Calcular a capacitância (C=variação de IL/8.fs.variação de Vc)\n",
    "  5. Calcular os esforços nos semicondutores (Ismd, Isef, Ismax, Idmds, Idef, Idmax, Vsmax e Vdmax)"
   ]
  },
  {
   "cell_type": "markdown",
   "id": "statutory-sarah",
   "metadata": {},
   "source": [
    "#### Tensão de Entrada:"
   ]
  },
  {
   "cell_type": "code",
   "execution_count": 2,
   "id": "reduced-principal",
   "metadata": {},
   "outputs": [
    {
     "name": "stdout",
     "output_type": "stream",
     "text": [
      "A tensão de entrada é 75 V\n"
     ]
    }
   ],
   "source": [
    "Vin = 75\n",
    "print(\"A tensão de entrada é\", Vin, \"V\")"
   ]
  },
  {
   "cell_type": "markdown",
   "id": "charitable-corps",
   "metadata": {},
   "source": [
    "#### Tensão de Saída: "
   ]
  },
  {
   "cell_type": "code",
   "execution_count": 3,
   "id": "guided-maine",
   "metadata": {},
   "outputs": [
    {
     "name": "stdout",
     "output_type": "stream",
     "text": [
      "A tensão de saída é 30 V\n"
     ]
    }
   ],
   "source": [
    "Vout = 30\n",
    "print(\"A tensão de saída é\", Vout, \"V\")"
   ]
  },
  {
   "cell_type": "markdown",
   "id": "russian-policy",
   "metadata": {},
   "source": [
    "#### Potência máxima de saída:"
   ]
  },
  {
   "cell_type": "code",
   "execution_count": 4,
   "id": "major-north",
   "metadata": {},
   "outputs": [
    {
     "name": "stdout",
     "output_type": "stream",
     "text": [
      "A potência máxima de saída é 20 W\n"
     ]
    }
   ],
   "source": [
    "Po = 20\n",
    "print(\"A potência máxima de saída é\", Po, \"W\")"
   ]
  },
  {
   "cell_type": "markdown",
   "id": "comparable-radical",
   "metadata": {},
   "source": [
    "#### Frequência de comutação: "
   ]
  },
  {
   "cell_type": "code",
   "execution_count": 5,
   "id": "finished-wrist",
   "metadata": {},
   "outputs": [
    {
     "name": "stdout",
     "output_type": "stream",
     "text": [
      "A frequência de comutação é 20000 Hz\n"
     ]
    }
   ],
   "source": [
    "fs = 20000\n",
    "print(\"A frequência de comutação é\", fs, \"Hz\")"
   ]
  },
  {
   "cell_type": "markdown",
   "id": "liable-three",
   "metadata": {},
   "source": [
    "#### Razão ciclíca:"
   ]
  },
  {
   "cell_type": "markdown",
   "id": "confident-answer",
   "metadata": {},
   "source": [
    "$$D = {Vout \\over Vin}$$"
   ]
  },
  {
   "cell_type": "code",
   "execution_count": 6,
   "id": "wireless-luther",
   "metadata": {},
   "outputs": [
    {
     "name": "stdout",
     "output_type": "stream",
     "text": [
      "A razão ciclíca é 0.4\n"
     ]
    }
   ],
   "source": [
    "D = Vout/Vin\n",
    "print(\"A razão ciclíca é\", D)"
   ]
  },
  {
   "cell_type": "markdown",
   "id": "connected-transcription",
   "metadata": {},
   "source": [
    "#### Corrente de saída:"
   ]
  },
  {
   "cell_type": "markdown",
   "id": "decent-wealth",
   "metadata": {},
   "source": [
    "$$Io = {Po \\over Vout}$$"
   ]
  },
  {
   "cell_type": "code",
   "execution_count": 7,
   "id": "saved-peninsula",
   "metadata": {},
   "outputs": [
    {
     "name": "stdout",
     "output_type": "stream",
     "text": [
      "A corrente de saída é 0.6666666666666666 A\n"
     ]
    }
   ],
   "source": [
    "Io = Po/Vout\n",
    "print(\"A corrente de saída é\", Io, \"A\")"
   ]
  },
  {
   "cell_type": "markdown",
   "id": "careful-recall",
   "metadata": {},
   "source": [
    "#### Ondulação de corrente no indutor:"
   ]
  },
  {
   "cell_type": "markdown",
   "id": "australian-northeast",
   "metadata": {},
   "source": [
    "###### Ondulação de 10%:\n",
    "$$\\Delta_{Il} = 0.1Io$$"
   ]
  },
  {
   "cell_type": "code",
   "execution_count": 8,
   "id": "opening-devon",
   "metadata": {},
   "outputs": [
    {
     "name": "stdout",
     "output_type": "stream",
     "text": [
      "A ondulação de corrente no indutor é 0.06666666666666667 A\n"
     ]
    }
   ],
   "source": [
    "delta_Il = 0.1*Io\n",
    "print(\"A ondulação de corrente no indutor é\", delta_Il, \"A\")"
   ]
  },
  {
   "cell_type": "markdown",
   "id": "human-snowboard",
   "metadata": {},
   "source": [
    "#### Ondulação de tensão no capacitor:"
   ]
  },
  {
   "cell_type": "markdown",
   "id": "scenic-integrity",
   "metadata": {},
   "source": [
    "###### Ondulação de 1%:\n",
    "$$\\Delta_{Vc} = 0.01Vout$$"
   ]
  },
  {
   "cell_type": "code",
   "execution_count": 9,
   "id": "starting-african",
   "metadata": {},
   "outputs": [
    {
     "name": "stdout",
     "output_type": "stream",
     "text": [
      "A ondulação de tensão no capacitor é 0.3 V\n"
     ]
    }
   ],
   "source": [
    "delta_Vc = 0.01*Vout\n",
    "print(\"A ondulação de tensão no capacitor é\", delta_Vc, \"V\")"
   ]
  },
  {
   "cell_type": "markdown",
   "id": "vertical-friend",
   "metadata": {},
   "source": [
    "#### Resistência de carga:"
   ]
  },
  {
   "cell_type": "markdown",
   "id": "specific-kuwait",
   "metadata": {},
   "source": [
    "$$Ro = {Vout^2 \\over Po}$$"
   ]
  },
  {
   "cell_type": "code",
   "execution_count": 10,
   "id": "radical-watershed",
   "metadata": {},
   "outputs": [
    {
     "name": "stdout",
     "output_type": "stream",
     "text": [
      "A resistência de carga é 45.0 ohms\n"
     ]
    }
   ],
   "source": [
    "Ro = (Vout**2)/Po\n",
    "print(\"A resistência de carga é\", Ro, \"ohms\")"
   ]
  },
  {
   "cell_type": "markdown",
   "id": "uniform-mechanism",
   "metadata": {},
   "source": [
    "#### Indutor de Saída:"
   ]
  },
  {
   "cell_type": "markdown",
   "id": "touched-involvement",
   "metadata": {},
   "source": [
    "$$Lo = {(Vin-Vout)D \\over fs\\Delta_{Il}}$$"
   ]
  },
  {
   "cell_type": "code",
   "execution_count": 11,
   "id": "intermediate-criticism",
   "metadata": {},
   "outputs": [
    {
     "name": "stdout",
     "output_type": "stream",
     "text": [
      "O indutor de saída é 0.013500000000000002 H\n"
     ]
    }
   ],
   "source": [
    "Lo = (Vin-Vout)*D/(fs*delta_Il)\n",
    "print(\"O indutor de saída é\", Lo, \"H\")"
   ]
  },
  {
   "cell_type": "markdown",
   "id": "internal-central",
   "metadata": {},
   "source": [
    "#### Capacitor de Saída:"
   ]
  },
  {
   "cell_type": "markdown",
   "id": "centered-cuisine",
   "metadata": {},
   "source": [
    "$$Co = {\\Delta_{Il} \\over 8fs\\Delta_{Vc}}$$"
   ]
  },
  {
   "cell_type": "code",
   "execution_count": 12,
   "id": "specified-orchestra",
   "metadata": {},
   "outputs": [
    {
     "name": "stdout",
     "output_type": "stream",
     "text": [
      "O capacitor de saída é 1.388888888888889e-06 F\n"
     ]
    }
   ],
   "source": [
    "Co = delta_Il/(8*fs*delta_Vc)\n",
    "print(\"O capacitor de saída é\", Co, \"F\")"
   ]
  },
  {
   "cell_type": "markdown",
   "id": "afraid-indian",
   "metadata": {},
   "source": [
    "### Esforços na chave:\n",
    "\n",
    "#### Valor médio da corrente na chave:"
   ]
  },
  {
   "cell_type": "markdown",
   "id": "satellite-merit",
   "metadata": {},
   "source": [
    "$$Is_{md} = DIo$$"
   ]
  },
  {
   "cell_type": "code",
   "execution_count": 13,
   "id": "gothic-typing",
   "metadata": {},
   "outputs": [
    {
     "name": "stdout",
     "output_type": "stream",
     "text": [
      "O valor médio da corrente na chave é 0.26666666666666666 A\n"
     ]
    }
   ],
   "source": [
    "Is_md = D*Io \n",
    "print(\"O valor médio da corrente na chave é\", Is_md, \"A\")"
   ]
  },
  {
   "cell_type": "markdown",
   "id": "interesting-slovenia",
   "metadata": {},
   "source": [
    "#### Valor eficaz da corrente na chave:"
   ]
  },
  {
   "cell_type": "markdown",
   "id": "lasting-round",
   "metadata": {},
   "source": [
    "$$Is_{ef} = \\sqrt{D}Io$$"
   ]
  },
  {
   "cell_type": "code",
   "execution_count": 14,
   "id": "clinical-pride",
   "metadata": {},
   "outputs": [
    {
     "name": "stdout",
     "output_type": "stream",
     "text": [
      "O valor eficaz da corrente na chave é 0.4216370213557839 A\n"
     ]
    }
   ],
   "source": [
    "Is_ef = (D**0.5)*Io \n",
    "print(\"O valor eficaz da corrente na chave é\", Is_ef, \"A\")"
   ]
  },
  {
   "cell_type": "markdown",
   "id": "limiting-burden",
   "metadata": {},
   "source": [
    "#### Valor máximo da corrente na chave:"
   ]
  },
  {
   "cell_type": "markdown",
   "id": "unexpected-liquid",
   "metadata": {},
   "source": [
    "$$Is_{max} = Io + {\\Delta_{Il} \\over 2}$$"
   ]
  },
  {
   "cell_type": "code",
   "execution_count": 15,
   "id": "liked-swaziland",
   "metadata": {},
   "outputs": [
    {
     "name": "stdout",
     "output_type": "stream",
     "text": [
      "O valor máximo da corrente na chave é 0.7 A\n"
     ]
    }
   ],
   "source": [
    "Is_max = Io + delta_Il/2 \n",
    "print(\"O valor máximo da corrente na chave é\", Is_max, \"A\")"
   ]
  },
  {
   "cell_type": "markdown",
   "id": "exclusive-sessions",
   "metadata": {},
   "source": [
    "#### Valor máximo da tensão na chave:"
   ]
  },
  {
   "cell_type": "markdown",
   "id": "sought-browser",
   "metadata": {},
   "source": [
    "$$Vs_{max} = Vin$$"
   ]
  },
  {
   "cell_type": "code",
   "execution_count": 16,
   "id": "handed-exposure",
   "metadata": {},
   "outputs": [
    {
     "name": "stdout",
     "output_type": "stream",
     "text": [
      "O valor máximo da tensão na chave é 75 V\n"
     ]
    }
   ],
   "source": [
    "Vs_max = Vin\n",
    "print(\"O valor máximo da tensão na chave é\", Vs_max, \"V\")"
   ]
  },
  {
   "cell_type": "markdown",
   "id": "pursuant-steering",
   "metadata": {},
   "source": [
    "### Esforços no diodo:\n",
    "\n",
    "#### Valor médio da corrente no diodo:"
   ]
  },
  {
   "cell_type": "markdown",
   "id": "modern-power",
   "metadata": {},
   "source": [
    "$$Id_{md} = (1-D)Io$$"
   ]
  },
  {
   "cell_type": "code",
   "execution_count": 17,
   "id": "registered-series",
   "metadata": {},
   "outputs": [
    {
     "name": "stdout",
     "output_type": "stream",
     "text": [
      "O valor médio da corrente no diodo é 0.39999999999999997 A\n"
     ]
    }
   ],
   "source": [
    "Id_md = (1-D)*Io \n",
    "print(\"O valor médio da corrente no diodo é\", Id_md, \"A\")"
   ]
  },
  {
   "cell_type": "markdown",
   "id": "controlling-beach",
   "metadata": {},
   "source": [
    "#### Valor eficaz da corrente no diodo:"
   ]
  },
  {
   "cell_type": "markdown",
   "id": "sized-mentor",
   "metadata": {},
   "source": [
    "$$Id_{ef} = \\sqrt{(1-D)}Io$$"
   ]
  },
  {
   "cell_type": "code",
   "execution_count": 18,
   "id": "hairy-marking",
   "metadata": {},
   "outputs": [
    {
     "name": "stdout",
     "output_type": "stream",
     "text": [
      "O valor eficaz da corrente no diodo é 0.5163977794943222 A\n"
     ]
    }
   ],
   "source": [
    "Id_ef = ((1-D)**0.5)*Io \n",
    "print(\"O valor eficaz da corrente no diodo é\", Id_ef, \"A\")"
   ]
  },
  {
   "cell_type": "markdown",
   "id": "impressive-sperm",
   "metadata": {},
   "source": [
    "#### Valor máximo da corrente no diodo:"
   ]
  },
  {
   "cell_type": "markdown",
   "id": "operating-consciousness",
   "metadata": {},
   "source": [
    "$$Id_{max} = Io + {\\Delta_{Il} \\over s}$$"
   ]
  },
  {
   "cell_type": "code",
   "execution_count": 19,
   "id": "expected-membership",
   "metadata": {},
   "outputs": [
    {
     "name": "stdout",
     "output_type": "stream",
     "text": [
      "O valor máximo da corrente no diodo é 0.7 A\n"
     ]
    }
   ],
   "source": [
    "Id_max = Io + delta_Il/2 \n",
    "print(\"O valor máximo da corrente no diodo é\", Id_max, \"A\")"
   ]
  },
  {
   "cell_type": "markdown",
   "id": "front-worry",
   "metadata": {},
   "source": [
    "#### Valor máximo da tensão no diodo:"
   ]
  },
  {
   "cell_type": "markdown",
   "id": "informative-binary",
   "metadata": {},
   "source": [
    "$$Vd_{max} = Vin$$"
   ]
  },
  {
   "cell_type": "code",
   "execution_count": 20,
   "id": "opponent-kidney",
   "metadata": {},
   "outputs": [
    {
     "name": "stdout",
     "output_type": "stream",
     "text": [
      "O valor máximo da tensão no diodo é 75 V\n"
     ]
    }
   ],
   "source": [
    "Vd_max = Vin\n",
    "print(\"O valor máximo da tensão no diodo é\", Vd_max, \"V\")"
   ]
  },
  {
   "cell_type": "markdown",
   "id": "personal-corporation",
   "metadata": {},
   "source": [
    "#### Resistência crítica:"
   ]
  },
  {
   "cell_type": "markdown",
   "id": "fewer-heritage",
   "metadata": {},
   "source": [
    "$$Rcrit = {2Lofs \\over (1-D)}$$"
   ]
  },
  {
   "cell_type": "code",
   "execution_count": 21,
   "id": "hidden-riverside",
   "metadata": {},
   "outputs": [
    {
     "name": "stdout",
     "output_type": "stream",
     "text": [
      "A resistência crítica é 900.0000000000002 ohms\n"
     ]
    }
   ],
   "source": [
    "Rcrit = 2*Lo*fs/(1-D)\n",
    "print(\"A resistência crítica é\", Rcrit, \"ohms\")"
   ]
  },
  {
   "cell_type": "code",
   "execution_count": 22,
   "id": "athletic-agreement",
   "metadata": {},
   "outputs": [
    {
     "data": {
      "image/png": "[encoded data removed]",
      "text/plain": [
       "<Figure size 432x288 with 1 Axes>"
      ]
     },
     "metadata": {
      "needs_background": "light"
     },
     "output_type": "display_data"
    }
   ],
   "source": [
    "import numpy  as np\n",
    "import matplotlib.pyplot as plt\n",
    "\n",
    "data = np.loadtxt('dados/tensao_no_indutor.txt')\n",
    "\n",
    "\n",
    "x = data[:, 0]\n",
    "y = data[:, 1]\n",
    "plt.plot(x, y,'-')\n",
    "\n",
    "plt.title('Tensão no Indutor')\n",
    "plt.xlabel('tempo (s)')\n",
    "plt.ylabel('tensão (V)')\n",
    "plt.show()"
   ]
  },
  {
   "cell_type": "code",
   "execution_count": 23,
   "id": "otherwise-enforcement",
   "metadata": {},
   "outputs": [
    {
     "data": {
      "image/png": "[encoded data removed]",
      "text/plain": [
       "<Figure size 432x288 with 1 Axes>"
      ]
     },
     "metadata": {
      "needs_background": "light"
     },
     "output_type": "display_data"
    }
   ],
   "source": [
    "import numpy  as np\n",
    "import matplotlib.pyplot as plt\n",
    "data = np.loadtxt('dados/corrente_no_indutor.txt')\n",
    "\n",
    "\n",
    "x = data[:, 0]\n",
    "y = data[:, 1]\n",
    "plt.plot(x, y,'-')\n",
    "\n",
    "plt.title('Corrente no Indutor')\n",
    "plt.xlabel('tempo (s)')\n",
    "plt.ylabel('corrente (A)')\n",
    "plt.show()"
   ]
  },
  {
   "cell_type": "code",
   "execution_count": 24,
   "id": "suited-gates",
   "metadata": {},
   "outputs": [
    {
     "data": {
      "image/png": "[encoded data removed]",
      "text/plain": [
       "<Figure size 432x288 with 1 Axes>"
      ]
     },
     "metadata": {
      "needs_background": "light"
     },
     "output_type": "display_data"
    }
   ],
   "source": [
    "import numpy  as np\n",
    "import matplotlib.pyplot as plt\n",
    "data = np.loadtxt('dados/vout.txt')\n",
    "\n",
    "\n",
    "x = data[:, 0]\n",
    "y = data[:, 1]\n",
    "plt.plot(x, y,'-')\n",
    "\n",
    "plt.title('Tensão de saída')\n",
    "plt.xlabel('tempo (s)')\n",
    "plt.ylabel('tensão (V)')\n",
    "plt.show()"
   ]
  },
  {
   "cell_type": "code",
   "execution_count": 25,
   "id": "pressed-rings",
   "metadata": {},
   "outputs": [
    {
     "data": {
      "image/png": "[encoded data removed]",
      "text/plain": [
       "<Figure size 432x288 with 1 Axes>"
      ]
     },
     "metadata": {
      "needs_background": "light"
     },
     "output_type": "display_data"
    }
   ],
   "source": [
    "import numpy  as np\n",
    "import matplotlib.pyplot as plt\n",
    "data = np.loadtxt('dados/forma_de_onda_no_comando.csv', delimiter=',', skiprows=1)\n",
    "\n",
    "\n",
    "x = data[:, 0]\n",
    "y = data[:, 1]\n",
    "plt.plot(x, y,'-')\n",
    "\n",
    "plt.title('Forma de onda no comando')\n",
    "plt.xlabel('tempo (s)')\n",
    "plt.ylabel('tensão (V)')\n",
    "plt.show()"
   ]
  },
  {
   "cell_type": "code",
   "execution_count": 26,
   "id": "declared-dragon",
   "metadata": {},
   "outputs": [
    {
     "data": {
      "image/png": "[encoded data removed]",
      "text/plain": [
       "<Figure size 432x288 with 1 Axes>"
      ]
     },
     "metadata": {
      "needs_background": "light"
     },
     "output_type": "display_data"
    }
   ],
   "source": [
    "import numpy  as np\n",
    "import matplotlib.pyplot as plt\n",
    "data = np.loadtxt('dados/PWM.csv', delimiter=',', skiprows=1)\n",
    "\n",
    "\n",
    "x = data[:, 0]#tempo\n",
    "y = data[:, 1]#tensão sobre a chave\n",
    "z = data[:, 2]#Vcon\n",
    "g = data[:, 3]#Vramp\n",
    "plt.plot(x,y)\n",
    "plt.plot(x,z)\n",
    "plt.plot(x,g)\n",
    "\n",
    "plt.title('PWM e a chave')\n",
    "plt.xlabel('tempo (s)')\n",
    "plt.ylabel('tensão (V)')\n",
    "plt.show()"
   ]
  },
  {
   "cell_type": "code",
   "execution_count": 27,
   "id": "hollow-dynamics",
   "metadata": {},
   "outputs": [
    {
     "data": {
      "image/png": "[encoded data removed]",
      "text/plain": [
       "<Figure size 432x288 with 1 Axes>"
      ]
     },
     "metadata": {
      "needs_background": "light"
     },
     "output_type": "display_data"
    }
   ],
   "source": [
    "import numpy  as np\n",
    "import matplotlib.pyplot as plt\n",
    "data = np.loadtxt('dados/Tensoes_chave_diodo_indutor.csv', delimiter=',', skiprows=1)\n",
    "\n",
    "\n",
    "x = data[:, 0]#tempo\n",
    "y = data[:, 1]#tensão no diodo\n",
    "z = data[:, 2]#tensão no indutor\n",
    "g = data[:, 3]#tensão sobre a chave\n",
    "plt.plot(x,y)\n",
    "plt.plot(x,z)\n",
    "plt.plot(x,g)\n",
    "\n",
    "plt.title('Tensões na chave, diodo, indutor')\n",
    "plt.xlabel('tempo (s)')\n",
    "plt.ylabel('tensão (V)')\n",
    "plt.show()"
   ]
  },
  {
   "cell_type": "code",
   "execution_count": 28,
   "id": "standard-official",
   "metadata": {},
   "outputs": [
    {
     "data": {
      "image/png": "[encoded data removed]",
      "text/plain": [
       "<Figure size 432x288 with 1 Axes>"
      ]
     },
     "metadata": {
      "needs_background": "light"
     },
     "output_type": "display_data"
    }
   ],
   "source": [
    "import numpy  as np\n",
    "import matplotlib.pyplot as plt\n",
    "data = np.loadtxt('dados/corrente_entrada_e_na_carga.csv', delimiter=',', skiprows=1)\n",
    "\n",
    "\n",
    "x = data[:, 0]\n",
    "y = data[:, 1]\n",
    "z = data[:, 2]\n",
    "#g = data[:, 3]\n",
    "plt.plot(x,y)\n",
    "plt.plot(x,z)\n",
    "#plt.plot(x,g)\n",
    "\n",
    "plt.title('Corrente na entrada e na carga')\n",
    "plt.xlabel('tempo (s)')\n",
    "plt.ylabel('tensão (V)')\n",
    "plt.show()"
   ]
  },
  {
   "cell_type": "markdown",
   "id": "analyzed-lewis",
   "metadata": {},
   "source": [
    "#### Segunda opção de projeto:\n",
    "- Alteração da tensão de saída para 45V.\n",
    "- Alteração da potência para 30W. "
   ]
  },
  {
   "cell_type": "code",
   "execution_count": 29,
   "id": "occupational-repeat",
   "metadata": {},
   "outputs": [
    {
     "name": "stdout",
     "output_type": "stream",
     "text": [
      "A tensão de entrada é 75 V\n",
      "A tensão de saída é 45 V\n",
      "A potência máxima de saída é 30 W\n",
      "A frequência de comutação é 20000 Hz\n",
      "A razão ciclíca é 0.6\n",
      "A corrente de saída é 0.6666666666666666 A\n",
      "A ondulação de corrente no indutor é 0.06666666666666667 A\n",
      "A ondulação de tensão no capacitor é 0.45 V\n",
      "A resistência de carga é 67.5 ohms\n",
      "O indutor de saída é 0.013500000000000002 H\n",
      "O capacitor de saída é 9.259259259259259e-07 F\n",
      "O valor médio da corrente na chave é 0.39999999999999997 A\n",
      "O valor eficaz da corrente na chave é 0.5163977794943222 A\n",
      "O valor máximo da corrente na chave é 0.7 A\n",
      "O valor máximo da tensão na chave é 75 V\n",
      "O valor médio da corrente no diodo é 0.26666666666666666 A\n",
      "O valor eficaz da corrente no diodo é 0.4216370213557839 A\n",
      "O valor máximo da corrente no diodo é 0.7 A\n",
      "O valor máximo da tensão no diodo é 75 V\n",
      "A resistência crítica é 1350.0000000000002 ohms\n"
     ]
    }
   ],
   "source": [
    "Vin = 75\n",
    "print(\"A tensão de entrada é\", Vin, \"V\")\n",
    "Vout2 = 45\n",
    "print(\"A tensão de saída é\", Vout2, \"V\")\n",
    "Po2 = 30\n",
    "print(\"A potência máxima de saída é\", Po2, \"W\")\n",
    "fs = 20000\n",
    "print(\"A frequência de comutação é\", fs, \"Hz\")\n",
    "D2 = Vout2/Vin\n",
    "print(\"A razão ciclíca é\", D2)\n",
    "Io2 = Po2/Vout2\n",
    "print(\"A corrente de saída é\", Io2, \"A\")\n",
    "delta_Il2 = 0.1*Io2\n",
    "print(\"A ondulação de corrente no indutor é\", delta_Il2, \"A\")\n",
    "delta_Vc2 = 0.01*Vout2\n",
    "print(\"A ondulação de tensão no capacitor é\", delta_Vc2, \"V\")\n",
    "Ro2 = (Vout2**2)/Po2\n",
    "print(\"A resistência de carga é\", Ro2, \"ohms\")\n",
    "Lo2 = (Vin-Vout2)*D2/(fs*delta_Il2)\n",
    "print(\"O indutor de saída é\", Lo2, \"H\")\n",
    "Co2 = delta_Il2/(8*fs*delta_Vc2)\n",
    "print(\"O capacitor de saída é\", Co2, \"F\")\n",
    "Is_md2 = D2*Io2\n",
    "print(\"O valor médio da corrente na chave é\", Is_md2, \"A\")\n",
    "Is_ef2 = (D2**0.5)*Io2 \n",
    "print(\"O valor eficaz da corrente na chave é\", Is_ef2, \"A\")\n",
    "Is_max2 = Io2 + delta_Il2/2 \n",
    "print(\"O valor máximo da corrente na chave é\", Is_max2, \"A\")\n",
    "Vs_max2 = Vin\n",
    "print(\"O valor máximo da tensão na chave é\", Vs_max2, \"V\")\n",
    "Id_md2 = (1-D2)*Io2 \n",
    "print(\"O valor médio da corrente no diodo é\", Id_md2, \"A\")\n",
    "Id_ef2 = ((1-D2)**0.5)*Io2 \n",
    "print(\"O valor eficaz da corrente no diodo é\", Id_ef2, \"A\")\n",
    "Id_max2 = Io2 + delta_Il2/2 \n",
    "print(\"O valor máximo da corrente no diodo é\", Id_max2, \"A\")\n",
    "Vd_max2 = Vin\n",
    "print(\"O valor máximo da tensão no diodo é\", Vd_max2, \"V\")\n",
    "Rcrit2 = 2*Lo2*fs/(1-D2)\n",
    "print(\"A resistência crítica é\", Rcrit2, \"ohms\")"
   ]
  },
  {
   "cell_type": "markdown",
   "id": "cognitive-national",
   "metadata": {},
   "source": [
    "#### Terceira opção de projeto:\n",
    "- Alteração da tensão de saída para 15V."
   ]
  },
  {
   "cell_type": "code",
   "execution_count": 31,
   "id": "balanced-tongue",
   "metadata": {},
   "outputs": [
    {
     "name": "stdout",
     "output_type": "stream",
     "text": [
      "A tensão de entrada é 75 V\n",
      "A tensão de saída é 15 V\n",
      "A potência máxima de saída é 20 W\n",
      "A frequência de comutação é 20000 Hz\n",
      "A razão ciclíca é 0.2\n",
      "A corrente de saída é 1.3333333333333333 A\n",
      "A ondulação de corrente no indutor é 0.13333333333333333 A\n",
      "A ondulação de tensão no capacitor é 0.15 V\n",
      "A resistência de carga é 11.25 ohms\n",
      "O indutor de saída é 0.0045000000000000005 H\n",
      "O capacitor de saída é 5.555555555555556e-06 F\n",
      "O valor médio da corrente na chave é 0.26666666666666666 A\n",
      "O valor eficaz da corrente na chave é 0.5962847939999438 A\n",
      "O valor máximo da corrente na chave é 1.4 A\n",
      "O valor máximo da tensão na chave é 75 V\n",
      "O valor médio da corrente no diodo é 1.0666666666666667 A\n",
      "O valor eficaz da corrente no diodo é 1.1925695879998877 A\n",
      "O valor máximo da corrente no diodo é 1.4 A\n",
      "O valor máximo da tensão no diodo é 75 V\n",
      "A resistência crítica é 225.00000000000003 ohms\n"
     ]
    }
   ],
   "source": [
    "Vin = 75\n",
    "print(\"A tensão de entrada é\", Vin, \"V\")\n",
    "Vout3 = 15\n",
    "print(\"A tensão de saída é\", Vout3, \"V\")\n",
    "Po = 20\n",
    "print(\"A potência máxima de saída é\", Po, \"W\")\n",
    "fs = 20000\n",
    "print(\"A frequência de comutação é\", fs, \"Hz\")\n",
    "D3 = Vout3/Vin\n",
    "print(\"A razão ciclíca é\", D3)\n",
    "Io3 = Po/Vout3\n",
    "print(\"A corrente de saída é\", Io3, \"A\")\n",
    "delta_Il3 = 0.1*Io3\n",
    "print(\"A ondulação de corrente no indutor é\", delta_Il3, \"A\")\n",
    "delta_Vc3 = 0.01*Vout3\n",
    "print(\"A ondulação de tensão no capacitor é\", delta_Vc3, \"V\")\n",
    "Ro3 = (Vout3**2)/Po\n",
    "print(\"A resistência de carga é\", Ro3, \"ohms\")\n",
    "Lo3 = (Vin-Vout3)*D3/(fs*delta_Il3)\n",
    "print(\"O indutor de saída é\", Lo3, \"H\")\n",
    "Co3 = delta_Il3/(8*fs*delta_Vc3)\n",
    "print(\"O capacitor de saída é\", Co3, \"F\")\n",
    "Is_md3 = D3*Io3\n",
    "print(\"O valor médio da corrente na chave é\", Is_md3, \"A\")\n",
    "Is_ef3 = (D3**0.5)*Io3 \n",
    "print(\"O valor eficaz da corrente na chave é\", Is_ef3, \"A\")\n",
    "Is_max3 = Io3 + delta_Il3/2 \n",
    "print(\"O valor máximo da corrente na chave é\", Is_max3, \"A\")\n",
    "Vs_max3 = Vin\n",
    "print(\"O valor máximo da tensão na chave é\", Vs_max3, \"V\")\n",
    "Id_md3 = (1-D3)*Io3 \n",
    "print(\"O valor médio da corrente no diodo é\", Id_md3, \"A\")\n",
    "Id_ef3 = ((1-D3)**0.5)*Io3\n",
    "print(\"O valor eficaz da corrente no diodo é\", Id_ef3, \"A\")\n",
    "Id_max3 = Io3 + delta_Il3/2 \n",
    "print(\"O valor máximo da corrente no diodo é\", Id_max3, \"A\")\n",
    "Vd_max3 = Vin\n",
    "print(\"O valor máximo da tensão no diodo é\", Vd_max3, \"V\")\n",
    "Rcrit3 = 2*Lo3*fs/(1-D3)\n",
    "print(\"A resistência crítica é\", Rcrit3, \"ohms\")"
   ]
  },
  {
   "cell_type": "markdown",
   "id": "third-decrease",
   "metadata": {},
   "source": [
    "Gráficos para add: \n",
    "- comparação do Vcon e consequentemente da forma de onda do comando;\n",
    "- comparação entre as tensões da carga;"
   ]
  }
 ],
 "metadata": {
  "kernelspec": {
   "display_name": "Python 3",
   "language": "python",
   "name": "python3"
  },
  "language_info": {
   "codemirror_mode": {
    "name": "ipython",
    "version": 3
   },
   "file_extension": ".py",
   "mimetype": "text/x-python",
   "name": "python",
   "nbconvert_exporter": "python",
   "pygments_lexer": "ipython3",
   "version": "3.8.1"
  }
 },
 "nbformat": 4,
 "nbformat_minor": 5
}
