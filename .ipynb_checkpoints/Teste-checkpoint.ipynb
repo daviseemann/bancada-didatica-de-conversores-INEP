{
 "cells": [
  {
   "cell_type": "markdown",
   "id": "cloudy-steps",
   "metadata": {},
   "source": [
    "Buck Converter\n",
    "=========\n",
    "#### Conversor abaixador\n",
    "\n",
    "O conversor de buck tem uma estrutura simples e de operação direta, uma ótima opção de conversor CC-CC PWM. A tensão de saída de um conversor buck é sempre menor que a tensão de entrada, por isso ele é conhecido também como conversor abaixador.\n",
    "\n",
    "O conversor buck é composto por uma fonte de tensão contínua, um transistor que funciona como uma chave, um diodo, um indutor, um capacitor e a carga. A chave irá controlar em qual estado estará o circuito, on-time ou off-time. Durante o período on-time, a chave é fechada e o diodo está no estado desligado. Neste intervalo a fonte de tensão transfere energia para o indutor e a corrente sobre ele aumenta. Já no período off-time, a chave estará aberta e o diodo ligado. Assim, a energia armazenada no indutor é liberada para a carga e a corrente no indutor diminui. \n",
    "\n",
    "O estado estacionário no conversor é atingido quando a transferência de energia dentro do tempo torna-se a mesma que a liberação de energia fora do tempo. Nesse estado a corrente no indutor estabele uma forma de onda triangular periódica e a tensão de saída torna-se quase constante com um pequeno componente de ondulação. "
   ]
  },
  {
   "attachments": {
    "buck.png": {
     "image/png": "[encoded data removed]"
    }
   },
   "cell_type": "markdown",
   "id": "drawn-yemen",
   "metadata": {},
   "source": [
    "#### Esquemático de um conversor buck\n",
    "\n",
    "![buck.png](attachment:buck.png)"
   ]
  },
  {
   "cell_type": "markdown",
   "id": "approved-private",
   "metadata": {},
   "source": [
    "#### Ganho estático do conversor \n",
    "\n"
   ]
  },
  {
   "cell_type": "markdown",
   "id": "younger-latex",
   "metadata": {},
   "source": [
    "#### Etapas do projeto:\n",
    "\n",
    "  1. Definir parâmetros de projeto (Vin, Vout, Po, fs, variação de IL e de Vc)\n",
    "  2. Calcular a razão cíclica (D=Vout/Vin)\n",
    "  3. Calcular indutância (L=(Vin - Vout).D/fs.(variação de IL)\n",
    "  4. Calcular a capacitância (C=variação de IL/8.fs.variação de Vc)\n",
    "  5. Calcular os esforços nos semicondutores (Ismd, Isef, Ismax, Idmds, Idef, Idmax, Vsmax e Vdmax)"
   ]
  },
  {
   "cell_type": "markdown",
   "id": "brief-barrier",
   "metadata": {},
   "source": [
    "#### Tensão de Entrada:"
   ]
  },
  {
   "cell_type": "code",
   "execution_count": 1,
   "id": "expired-separation",
   "metadata": {},
   "outputs": [],
   "source": [
    "Vin = 75"
   ]
  },
  {
   "cell_type": "markdown",
   "id": "adverse-access",
   "metadata": {},
   "source": [
    "#### Tensão de Saída: "
   ]
  },
  {
   "cell_type": "code",
   "execution_count": 2,
   "id": "entire-certification",
   "metadata": {},
   "outputs": [],
   "source": [
    "Vout = 30"
   ]
  },
  {
   "cell_type": "markdown",
   "id": "empty-sunset",
   "metadata": {},
   "source": [
    "#### Potência máxima de saída:"
   ]
  },
  {
   "cell_type": "code",
   "execution_count": 3,
   "id": "choice-softball",
   "metadata": {},
   "outputs": [],
   "source": [
    "Po = 20"
   ]
  },
  {
   "cell_type": "markdown",
   "id": "induced-medline",
   "metadata": {},
   "source": [
    "#### Frequência de comutação: "
   ]
  },
  {
   "cell_type": "code",
   "execution_count": 4,
   "id": "stuck-myrtle",
   "metadata": {},
   "outputs": [],
   "source": [
    "fs = 20000"
   ]
  },
  {
   "cell_type": "markdown",
   "id": "human-heaven",
   "metadata": {},
   "source": [
    "#### Razão ciclíca:"
   ]
  },
  {
   "cell_type": "code",
   "execution_count": 5,
   "id": "asian-pharmacology",
   "metadata": {},
   "outputs": [
    {
     "name": "stdout",
     "output_type": "stream",
     "text": [
      "A razão ciclíca é 0.4\n"
     ]
    }
   ],
   "source": [
    "D = Vout/Vin\n",
    "print(\"A razão ciclíca é\", D)"
   ]
  },
  {
   "cell_type": "markdown",
   "id": "cheap-bailey",
   "metadata": {},
   "source": [
    "#### Corrente de saída:"
   ]
  },
  {
   "cell_type": "code",
   "execution_count": 6,
   "id": "conceptual-gambling",
   "metadata": {},
   "outputs": [
    {
     "name": "stdout",
     "output_type": "stream",
     "text": [
      "A corrente de saída é 0.6666666666666666 A\n"
     ]
    }
   ],
   "source": [
    "Io = Po/Vout\n",
    "print(\"A corrente de saída é\", Io, \"A\")"
   ]
  },
  {
   "cell_type": "markdown",
   "id": "editorial-weather",
   "metadata": {},
   "source": [
    "#### Ondulação de corrente no indutor:"
   ]
  },
  {
   "cell_type": "code",
   "execution_count": 7,
   "id": "metallic-proportion",
   "metadata": {},
   "outputs": [
    {
     "name": "stdout",
     "output_type": "stream",
     "text": [
      "A ondulação de corrente no indutor é 0.06666666666666667 A\n"
     ]
    }
   ],
   "source": [
    "delta_Il = 0.1*Io\n",
    "print(\"A ondulação de corrente no indutor é\", delta_Il, \"A\")"
   ]
  },
  {
   "cell_type": "markdown",
   "id": "caroline-activation",
   "metadata": {},
   "source": [
    "#### Ondulação de tensão no capacitor:"
   ]
  },
  {
   "cell_type": "code",
   "execution_count": 8,
   "id": "funny-bundle",
   "metadata": {},
   "outputs": [
    {
     "name": "stdout",
     "output_type": "stream",
     "text": [
      "A ondulação de tensão no capacitor é 0.3 V\n"
     ]
    }
   ],
   "source": [
    "delta_Vc = 0.01*Vout\n",
    "print(\"A ondulação de tensão no capacitor é\", delta_Vc, \"V\")"
   ]
  },
  {
   "cell_type": "markdown",
   "id": "assured-manitoba",
   "metadata": {},
   "source": [
    "#### Resistência de carga:"
   ]
  },
  {
   "cell_type": "code",
   "execution_count": 9,
   "id": "nominated-universe",
   "metadata": {},
   "outputs": [
    {
     "name": "stdout",
     "output_type": "stream",
     "text": [
      "A resistência de carga é 45.0 ohms\n"
     ]
    }
   ],
   "source": [
    "Ro = (Vout**2)/Po\n",
    "print(\"A resistência de carga é\", Ro, \"ohms\")"
   ]
  },
  {
   "cell_type": "markdown",
   "id": "bacterial-allah",
   "metadata": {},
   "source": [
    "#### Indutor de Saída:"
   ]
  },
  {
   "cell_type": "code",
   "execution_count": 10,
   "id": "dress-graphics",
   "metadata": {},
   "outputs": [
    {
     "name": "stdout",
     "output_type": "stream",
     "text": [
      "O indutor de saída é 0.013500000000000002 H\n"
     ]
    }
   ],
   "source": [
    "Lo = (Vin-Vout)*D/(fs*delta_Il)\n",
    "print(\"O indutor de saída é\", Lo, \"H\")"
   ]
  },
  {
   "cell_type": "markdown",
   "id": "liberal-strength",
   "metadata": {},
   "source": [
    "#### Capacitor de Saída:"
   ]
  },
  {
   "cell_type": "code",
   "execution_count": 11,
   "id": "material-turner",
   "metadata": {},
   "outputs": [
    {
     "name": "stdout",
     "output_type": "stream",
     "text": [
      "O capacitor de saída é 1.388888888888889e-06 F\n"
     ]
    }
   ],
   "source": [
    "Co = delta_Il/(8*fs*delta_Vc)\n",
    "print(\"O capacitor de saída é\", Co, \"F\")"
   ]
  },
  {
   "cell_type": "markdown",
   "id": "numerous-difficulty",
   "metadata": {},
   "source": [
    "### Esforços na chave:\n",
    "\n",
    "#### Valor médio da corrente na chave:"
   ]
  },
  {
   "cell_type": "code",
   "execution_count": 12,
   "id": "serial-stations",
   "metadata": {},
   "outputs": [
    {
     "name": "stdout",
     "output_type": "stream",
     "text": [
      "O valor médio da corrente na chave é 0.26666666666666666 A\n"
     ]
    }
   ],
   "source": [
    "Is_md = D*Io \n",
    "print(\"O valor médio da corrente na chave é\", Is_md, \"A\")"
   ]
  },
  {
   "cell_type": "markdown",
   "id": "flying-debate",
   "metadata": {},
   "source": [
    "#### Valor eficaz da corrente na chave:"
   ]
  },
  {
   "cell_type": "code",
   "execution_count": 13,
   "id": "concrete-calculation",
   "metadata": {},
   "outputs": [
    {
     "name": "stdout",
     "output_type": "stream",
     "text": [
      "O valor eficaz da corrente na chave é 0.4216370213557839 A\n"
     ]
    }
   ],
   "source": [
    "Is_ef = (D**0.5)*Io \n",
    "print(\"O valor eficaz da corrente na chave é\", Is_ef, \"A\")"
   ]
  },
  {
   "cell_type": "markdown",
   "id": "precious-thomas",
   "metadata": {},
   "source": [
    "#### Valor máximo da corrente na chave:"
   ]
  },
  {
   "cell_type": "code",
   "execution_count": 14,
   "id": "polish-latino",
   "metadata": {},
   "outputs": [
    {
     "name": "stdout",
     "output_type": "stream",
     "text": [
      "O valor máximo da corrente na chave é 0.7 A\n"
     ]
    }
   ],
   "source": [
    "Is_max = Io + delta_Il/2 \n",
    "print(\"O valor máximo da corrente na chave é\", Is_max, \"A\")"
   ]
  },
  {
   "cell_type": "markdown",
   "id": "arabic-college",
   "metadata": {},
   "source": [
    "#### Valor máximo da tensão na chave:"
   ]
  },
  {
   "cell_type": "code",
   "execution_count": 15,
   "id": "described-sunglasses",
   "metadata": {},
   "outputs": [
    {
     "name": "stdout",
     "output_type": "stream",
     "text": [
      "O valor máximo da tensão na chave é 75 V\n"
     ]
    }
   ],
   "source": [
    "Vs_max = Vin\n",
    "print(\"O valor máximo da tensão na chave é\", Vs_max, \"V\")"
   ]
  },
  {
   "cell_type": "markdown",
   "id": "amazing-retail",
   "metadata": {},
   "source": [
    "### Esforços no diodo:\n",
    "\n",
    "#### Valor médio da corrente no diodo:"
   ]
  },
  {
   "cell_type": "code",
   "execution_count": 16,
   "id": "active-quantum",
   "metadata": {},
   "outputs": [
    {
     "name": "stdout",
     "output_type": "stream",
     "text": [
      "O valor médio da corrente no diodo é 0.39999999999999997 A\n"
     ]
    }
   ],
   "source": [
    "Id_md = (1-D)*Io \n",
    "print(\"O valor médio da corrente no diodo é\", Id_md, \"A\")"
   ]
  },
  {
   "cell_type": "markdown",
   "id": "forced-methodology",
   "metadata": {},
   "source": [
    "#### Valor eficaz da corrente no diodo:"
   ]
  },
  {
   "cell_type": "code",
   "execution_count": 17,
   "id": "plastic-coffee",
   "metadata": {},
   "outputs": [
    {
     "name": "stdout",
     "output_type": "stream",
     "text": [
      "O valor eficaz da corrente no diodo é 0.5163977794943222 A\n"
     ]
    }
   ],
   "source": [
    "Id_ef = ((1-D)**0.5)*Io \n",
    "print(\"O valor eficaz da corrente no diodo é\", Id_ef, \"A\")"
   ]
  },
  {
   "cell_type": "markdown",
   "id": "coated-processor",
   "metadata": {},
   "source": [
    "#### Valor máximo da corrente no diodo:"
   ]
  },
  {
   "cell_type": "code",
   "execution_count": 18,
   "id": "declared-tiger",
   "metadata": {},
   "outputs": [
    {
     "name": "stdout",
     "output_type": "stream",
     "text": [
      "O valor máximo da corrente no diodo é 0.7 A\n"
     ]
    }
   ],
   "source": [
    "Id_max = Io + delta_Il/2 \n",
    "print(\"O valor máximo da corrente no diodo é\", Id_max, \"A\")"
   ]
  },
  {
   "cell_type": "markdown",
   "id": "mexican-episode",
   "metadata": {},
   "source": [
    "#### Valor máximo da tensão no diodo:"
   ]
  },
  {
   "cell_type": "code",
   "execution_count": 19,
   "id": "continental-seven",
   "metadata": {},
   "outputs": [
    {
     "name": "stdout",
     "output_type": "stream",
     "text": [
      "O valor máximo da tensão no diodo é 75 V\n"
     ]
    }
   ],
   "source": [
    "Vd_max = Vin\n",
    "print(\"O valor máximo da tensão no diodo é\", Vd_max, \"V\")"
   ]
  },
  {
   "cell_type": "markdown",
   "id": "designing-induction",
   "metadata": {},
   "source": [
    "#### Resistência crítica:"
   ]
  },
  {
   "cell_type": "code",
   "execution_count": 20,
   "id": "medium-technology",
   "metadata": {},
   "outputs": [
    {
     "name": "stdout",
     "output_type": "stream",
     "text": [
      "A resistência crítica é 900.0000000000002 ohms\n"
     ]
    }
   ],
   "source": [
    "Rcrit = 2*Lo*fs/(1-D)\n",
    "print(\"A resistência crítica é\", Rcrit, \"ohms\")"
   ]
  }
 ],
 "metadata": {
  "kernelspec": {
   "display_name": "Python 3",
   "language": "python",
   "name": "python3"
  },
  "language_info": {
   "codemirror_mode": {
    "name": "ipython",
    "version": 3
   },
   "file_extension": ".py",
   "mimetype": "text/x-python",
   "name": "python",
   "nbconvert_exporter": "python",
   "pygments_lexer": "ipython3",
   "version": "3.8.1"
  }
 },
 "nbformat": 4,
 "nbformat_minor": 5
}
