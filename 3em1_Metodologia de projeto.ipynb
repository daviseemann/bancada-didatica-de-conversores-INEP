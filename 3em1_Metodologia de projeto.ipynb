{
 "cells": [
  {
   "cell_type": "code",
   "execution_count": 3,
   "id": "international-advocacy",
   "metadata": {},
   "outputs": [
    {
     "data": {
      "text/html": [
       "<script>$(\"div.input\").hide()</script>"
      ],
      "text/plain": [
       "<IPython.core.display.HTML object>"
      ]
     },
     "metadata": {},
     "output_type": "display_data"
    },
    {
     "data": {
      "application/vnd.jupyter.widget-view+json": {
       "model_id": "b273008a90ad4994a6a13f653fd074c0",
       "version_major": 2,
       "version_minor": 0
      },
      "text/plain": [
       "ToggleButton(value=False, description='Show code')"
      ]
     },
     "metadata": {},
     "output_type": "display_data"
    }
   ],
   "source": [
    "import ipywidgets as widgets\n",
    "from IPython.display import display, HTML\n",
    "\n",
    "javascript_functions = {False: \"hide()\", True: \"show()\"}\n",
    "button_descriptions  = {False: \"Show code\", True: \"Hide code\"}\n",
    "\n",
    "\n",
    "def toggle_code(state):\n",
    "\n",
    "    \"\"\"\n",
    "    Toggles the JavaScript show()/hide() function on the div.input element.\n",
    "    \"\"\"\n",
    "\n",
    "    output_string = \"<script>$(\\\"div.input\\\").{}</script>\"\n",
    "    output_args   = (javascript_functions[state],)\n",
    "    output        = output_string.format(*output_args)\n",
    "\n",
    "    display(HTML(output))\n",
    "\n",
    "\n",
    "def button_action(value):\n",
    "\n",
    "    \"\"\"\n",
    "    Calls the toggle_code function and updates the button description.\n",
    "    \"\"\"\n",
    "\n",
    "    state = value.new\n",
    "\n",
    "    toggle_code(state)\n",
    "\n",
    "    value.owner.description = button_descriptions[state]\n",
    "\n",
    "\n",
    "state = False\n",
    "toggle_code(state)\n",
    "\n",
    "button = widgets.ToggleButton(state, description = button_descriptions[state])\n",
    "button.observe(button_action, \"value\")\n",
    "\n",
    "display(button)"
   ]
  },
  {
   "cell_type": "markdown",
   "id": "norman-badge",
   "metadata": {},
   "source": [
    "Buck Conversor Buck-Boost não inversor \n",
    "=========\n",
    "\n",
    "Um conversor buck-boost não inversor é essencialmente uma combinação em cascata de um conversor de buck seguido por um conversor boost, onde um único\n",
    "indutor-capacitor é usado para ambos. Este conversor não inverte as polaridades da tensão de saída em relação às polaridades da entrada.\n",
    "\n",
    "Basicamente, requer o uso de duas chaves e é projetado combinando um conversor buck e um conversor de boost, ambos projetados na mesma topologia de forma que este conversor possa funcionar como Conversor Buck, Boost ou Buck-Boost. O MOSFET 1 é conectado entre a fonte de tensão de entrada e o diodo 1. O indutor está conectado entre o diodo 1 e o MOSFET 2, enquanto o diodo 2 está conectado entre MOSFET 2 e a saída ou capacitor de carga."
   ]
  },
  {
   "attachments": {
    "e160dbbf-b5d0-4299-a47f-c0fce7158fef.png": {
     "image/png": "[encoded data removed]"
    }
   },
   "cell_type": "markdown",
   "id": "thorough-replication",
   "metadata": {},
   "source": [
    "#### Esquemático:\n",
    "\n",
    "![3em1.png](attachment:e160dbbf-b5d0-4299-a47f-c0fce7158fef.png)"
   ]
  },
  {
   "cell_type": "markdown",
   "id": "medium-discrimination",
   "metadata": {},
   "source": [
    "#### Etapas do projeto para cada modo de operação (buck-boost, buck ou boost):\n",
    "\n",
    "  1. Definir parâmetros de projeto (Vin, Vout, Po, fs, variação de IL e de Vc)\n",
    "  2. Calcular a razão cíclica (D)\n",
    "  3. Calcular indutância (L)\n",
    "  4. Calcular a capacitância (C)\n",
    "  5. Calcular os esforços nos semicondutores (Ismd, Isef, Ismax, Idmds, Idef, Idmax, Vsmax e Vdmax)\n",
    "  \n",
    "##### Valores que serão definidos:\n",
    " - Vin = 75V\n",
    " - fs = 50KHz\n",
    " - D = 0.4\n",
    " - Ro = 50 ohms\n",
    " - Lo = 3.6 mH\n",
    " - Co = 16 uC"
   ]
  },
  {
   "cell_type": "markdown",
   "id": "demonstrated-recipe",
   "metadata": {},
   "source": [
    "### Atuando como conversor Buck-Boost:"
   ]
  },
  {
   "cell_type": "markdown",
   "id": "major-transsexual",
   "metadata": {},
   "source": [
    "#### Tensão de Entrada:"
   ]
  },
  {
   "cell_type": "code",
   "execution_count": 4,
   "id": "isolated-strain",
   "metadata": {},
   "outputs": [
    {
     "name": "stdout",
     "output_type": "stream",
     "text": [
      "A tensão de entrada é 75 V\n"
     ]
    }
   ],
   "source": [
    "Vin = 75\n",
    "print(\"A tensão de entrada é\", Vin, \"V\")"
   ]
  },
  {
   "cell_type": "markdown",
   "id": "photographic-warren",
   "metadata": {},
   "source": [
    "#### Tensão de Saída: "
   ]
  },
  {
   "cell_type": "code",
   "execution_count": 5,
   "id": "critical-private",
   "metadata": {},
   "outputs": [
    {
     "name": "stdout",
     "output_type": "stream",
     "text": [
      "A tensão de saída é 50 V\n"
     ]
    }
   ],
   "source": [
    "Vout = 50\n",
    "print(\"A tensão de saída é\", Vout, \"V\")"
   ]
  },
  {
   "cell_type": "markdown",
   "id": "bound-identifier",
   "metadata": {},
   "source": [
    "#### Potência máxima de saída:"
   ]
  },
  {
   "cell_type": "code",
   "execution_count": 6,
   "id": "express-repair",
   "metadata": {},
   "outputs": [
    {
     "name": "stdout",
     "output_type": "stream",
     "text": [
      "A potência máxima de saída é 50 W\n"
     ]
    }
   ],
   "source": [
    "Po = 50\n",
    "print(\"A potência máxima de saída é\", Po, \"W\")"
   ]
  },
  {
   "cell_type": "markdown",
   "id": "duplicate-radar",
   "metadata": {},
   "source": [
    "#### Frequência de comutação: "
   ]
  },
  {
   "cell_type": "code",
   "execution_count": 7,
   "id": "included-syndrome",
   "metadata": {},
   "outputs": [
    {
     "name": "stdout",
     "output_type": "stream",
     "text": [
      "A frequência de comutação é 50000 Hz\n"
     ]
    }
   ],
   "source": [
    "fs = 50000\n",
    "print(\"A frequência de comutação é\", fs, \"Hz\")"
   ]
  },
  {
   "cell_type": "markdown",
   "id": "other-morrison",
   "metadata": {},
   "source": [
    "#### Razão ciclíca:"
   ]
  },
  {
   "cell_type": "markdown",
   "id": "governmental-chase",
   "metadata": {},
   "source": [
    "$$D = {Vout \\over (Vout + Vin)}$$"
   ]
  },
  {
   "cell_type": "code",
   "execution_count": 8,
   "id": "korean-longer",
   "metadata": {},
   "outputs": [
    {
     "name": "stdout",
     "output_type": "stream",
     "text": [
      "A razão ciclíca é 0.4\n"
     ]
    }
   ],
   "source": [
    "D = Vout/(Vout+Vin)\n",
    "print(\"A razão ciclíca é\", D)"
   ]
  },
  {
   "cell_type": "markdown",
   "id": "diverse-usage",
   "metadata": {},
   "source": [
    "#### Corrente de saída:"
   ]
  },
  {
   "cell_type": "markdown",
   "id": "fantastic-shade",
   "metadata": {},
   "source": [
    "$$Io = {Po \\over Vout}$$"
   ]
  },
  {
   "cell_type": "code",
   "execution_count": 9,
   "id": "empty-buying",
   "metadata": {},
   "outputs": [
    {
     "name": "stdout",
     "output_type": "stream",
     "text": [
      "A corrente de saída é 1.000 A\n"
     ]
    }
   ],
   "source": [
    "Io = Po/Vout\n",
    "print(\"A corrente de saída é\", \"%.3f\" % Io, \"A\")"
   ]
  },
  {
   "cell_type": "markdown",
   "id": "expressed-growth",
   "metadata": {},
   "source": [
    "#### Ondulação de corrente no indutor:"
   ]
  },
  {
   "cell_type": "markdown",
   "id": "caroline-ancient",
   "metadata": {},
   "source": [
    "###### Ondulação de 10%:\n",
    "$$\\Delta_{Il} = 0.1(Io + {Po \\over Vin})$$"
   ]
  },
  {
   "cell_type": "code",
   "execution_count": 10,
   "id": "favorite-fundamental",
   "metadata": {},
   "outputs": [
    {
     "name": "stdout",
     "output_type": "stream",
     "text": [
      "A ondulação de corrente no indutor é 0.167 A\n"
     ]
    }
   ],
   "source": [
    "delta_Il = 0.1*(Io + Po/Vin)\n",
    "print(\"A ondulação de corrente no indutor é\", \"%.3f\" % delta_Il, \"A\")"
   ]
  },
  {
   "cell_type": "markdown",
   "id": "driving-cyprus",
   "metadata": {},
   "source": [
    "#### Ondulação de tensão no capacitor:"
   ]
  },
  {
   "cell_type": "markdown",
   "id": "silent-upgrade",
   "metadata": {},
   "source": [
    "###### Ondulação de 1%:\n",
    "$$\\Delta_{Vc} = 0.01Vout$$"
   ]
  },
  {
   "cell_type": "code",
   "execution_count": 11,
   "id": "extensive-cooper",
   "metadata": {},
   "outputs": [
    {
     "name": "stdout",
     "output_type": "stream",
     "text": [
      "A ondulação de tensão no capacitor é 0.5 V\n"
     ]
    }
   ],
   "source": [
    "delta_Vc = 0.01*Vout\n",
    "print(\"A ondulação de tensão no capacitor é\", delta_Vc, \"V\")"
   ]
  },
  {
   "cell_type": "markdown",
   "id": "sweet-bibliography",
   "metadata": {},
   "source": [
    "#### Resistência de carga:"
   ]
  },
  {
   "cell_type": "markdown",
   "id": "extra-greene",
   "metadata": {},
   "source": [
    "$$Ro = {Vout^2 \\over Po}$$"
   ]
  },
  {
   "cell_type": "code",
   "execution_count": 12,
   "id": "radio-norway",
   "metadata": {},
   "outputs": [
    {
     "name": "stdout",
     "output_type": "stream",
     "text": [
      "A resistência de carga é 50.0 ohms\n"
     ]
    }
   ],
   "source": [
    "Ro = (Vout**2)/Po\n",
    "print(\"A resistência de carga é\", Ro, \"ohms\")"
   ]
  },
  {
   "cell_type": "markdown",
   "id": "bronze-contamination",
   "metadata": {},
   "source": [
    "#### Indutor de Saída:"
   ]
  },
  {
   "cell_type": "markdown",
   "id": "sixth-authentication",
   "metadata": {},
   "source": [
    "$$Lo = {VinD \\over fs\\Delta_{Il}}$$"
   ]
  },
  {
   "cell_type": "code",
   "execution_count": 13,
   "id": "violent-attraction",
   "metadata": {},
   "outputs": [
    {
     "name": "stdout",
     "output_type": "stream",
     "text": [
      "O indutor de saída é 0.0036 H\n"
     ]
    }
   ],
   "source": [
    "Lo = Vin*D/(fs*delta_Il)\n",
    "print(\"O indutor de saída é\", \"%.4f\" % Lo, \"H\")"
   ]
  },
  {
   "cell_type": "markdown",
   "id": "interpreted-bulletin",
   "metadata": {},
   "source": [
    "#### Capacitor de Saída:"
   ]
  },
  {
   "cell_type": "markdown",
   "id": "aquatic-devon",
   "metadata": {},
   "source": [
    "$$Co = {IoD \\over fs\\Delta_{Vc}}$$"
   ]
  },
  {
   "cell_type": "code",
   "execution_count": 14,
   "id": "acceptable-domain",
   "metadata": {},
   "outputs": [
    {
     "name": "stdout",
     "output_type": "stream",
     "text": [
      "O capacitor de saída é 1.6e-05 F\n"
     ]
    }
   ],
   "source": [
    "Co = Io*D/(fs*delta_Vc)\n",
    "print(\"O capacitor de saída é\", Co, \"F\")"
   ]
  },
  {
   "cell_type": "markdown",
   "id": "cosmetic-hardware",
   "metadata": {},
   "source": [
    "### Esforços na chave:\n",
    "\n",
    "#### Valor médio da corrente na chave:"
   ]
  },
  {
   "cell_type": "markdown",
   "id": "surface-module",
   "metadata": {},
   "source": [
    "$$Is_{md} = DIo$$"
   ]
  },
  {
   "cell_type": "code",
   "execution_count": 15,
   "id": "suited-return",
   "metadata": {},
   "outputs": [
    {
     "name": "stdout",
     "output_type": "stream",
     "text": [
      "O valor médio da corrente na chave é 0.400 A\n"
     ]
    }
   ],
   "source": [
    "Is_md = D*Io \n",
    "print(\"O valor médio da corrente na chave é\", \"%.3f\" % Is_md, \"A\")"
   ]
  },
  {
   "cell_type": "markdown",
   "id": "female-chase",
   "metadata": {},
   "source": [
    "#### Valor eficaz da corrente na chave:"
   ]
  },
  {
   "cell_type": "markdown",
   "id": "minus-chapter",
   "metadata": {},
   "source": [
    "$$Is_{ef} = \\sqrt{D}Io$$"
   ]
  },
  {
   "cell_type": "code",
   "execution_count": 16,
   "id": "compressed-gather",
   "metadata": {},
   "outputs": [
    {
     "name": "stdout",
     "output_type": "stream",
     "text": [
      "O valor eficaz da corrente na chave é 0.632 A\n"
     ]
    }
   ],
   "source": [
    "Is_ef = (D**0.5)*Io \n",
    "print(\"O valor eficaz da corrente na chave é\", \"%.3f\" % Is_ef, \"A\")"
   ]
  },
  {
   "cell_type": "markdown",
   "id": "baking-valve",
   "metadata": {},
   "source": [
    "#### Valor máximo da corrente na chave:"
   ]
  },
  {
   "cell_type": "markdown",
   "id": "color-lambda",
   "metadata": {},
   "source": [
    "$$Is_{max} = Io + {\\Delta_{Il} \\over 2}$$"
   ]
  },
  {
   "cell_type": "code",
   "execution_count": 17,
   "id": "infinite-canberra",
   "metadata": {},
   "outputs": [
    {
     "name": "stdout",
     "output_type": "stream",
     "text": [
      "O valor máximo da corrente na chave é 1.0833333333333333 A\n"
     ]
    }
   ],
   "source": [
    "Is_max = Io + delta_Il/2 \n",
    "print(\"O valor máximo da corrente na chave é\", Is_max, \"A\")"
   ]
  },
  {
   "cell_type": "markdown",
   "id": "ordered-plenty",
   "metadata": {},
   "source": [
    "#### Valor máximo da tensão na chave:"
   ]
  },
  {
   "cell_type": "markdown",
   "id": "attended-joint",
   "metadata": {},
   "source": [
    "$$Vs_{max} = Vin$$"
   ]
  },
  {
   "cell_type": "code",
   "execution_count": 18,
   "id": "north-italy",
   "metadata": {},
   "outputs": [
    {
     "name": "stdout",
     "output_type": "stream",
     "text": [
      "O valor máximo da tensão na chave é 75 V\n"
     ]
    }
   ],
   "source": [
    "Vs_max = Vin\n",
    "print(\"O valor máximo da tensão na chave é\", Vs_max, \"V\")"
   ]
  },
  {
   "cell_type": "markdown",
   "id": "descending-politics",
   "metadata": {},
   "source": [
    "### Esforços no diodo:\n",
    "\n",
    "#### Valor médio da corrente no diodo:"
   ]
  },
  {
   "cell_type": "markdown",
   "id": "noticed-accommodation",
   "metadata": {},
   "source": [
    "$$Id_{md} = (1-D)Io$$"
   ]
  },
  {
   "cell_type": "code",
   "execution_count": 19,
   "id": "derived-wages",
   "metadata": {},
   "outputs": [
    {
     "name": "stdout",
     "output_type": "stream",
     "text": [
      "O valor médio da corrente no diodo é 0.600 A\n"
     ]
    }
   ],
   "source": [
    "Id_md = (1-D)*Io \n",
    "print(\"O valor médio da corrente no diodo é\", \"%.3f\" % Id_md, \"A\")"
   ]
  },
  {
   "cell_type": "markdown",
   "id": "seven-plumbing",
   "metadata": {},
   "source": [
    "#### Valor eficaz da corrente no diodo:"
   ]
  },
  {
   "cell_type": "markdown",
   "id": "legendary-legislature",
   "metadata": {},
   "source": [
    "$$Id_{ef} = \\sqrt{(1-D)}Io$$"
   ]
  },
  {
   "cell_type": "code",
   "execution_count": 20,
   "id": "saved-justice",
   "metadata": {},
   "outputs": [
    {
     "name": "stdout",
     "output_type": "stream",
     "text": [
      "O valor eficaz da corrente no diodo é 0.775 A\n"
     ]
    }
   ],
   "source": [
    "Id_ef = ((1-D)**0.5)*Io \n",
    "print(\"O valor eficaz da corrente no diodo é\", \"%.3f\" % Id_ef, \"A\")"
   ]
  },
  {
   "cell_type": "markdown",
   "id": "accepting-meditation",
   "metadata": {},
   "source": [
    "#### Valor máximo da corrente no diodo:"
   ]
  },
  {
   "cell_type": "markdown",
   "id": "modern-mentor",
   "metadata": {},
   "source": [
    "$$Id_{max} = Io + {\\Delta_{Il} \\over s}$$"
   ]
  },
  {
   "cell_type": "code",
   "execution_count": 21,
   "id": "suffering-moral",
   "metadata": {},
   "outputs": [
    {
     "name": "stdout",
     "output_type": "stream",
     "text": [
      "O valor máximo da corrente no diodo é 1.0833333333333333 A\n"
     ]
    }
   ],
   "source": [
    "Id_max = Io + delta_Il/2 \n",
    "print(\"O valor máximo da corrente no diodo é\", Id_max, \"A\")"
   ]
  },
  {
   "cell_type": "markdown",
   "id": "minute-runner",
   "metadata": {},
   "source": [
    "#### Valor máximo da tensão no diodo:"
   ]
  },
  {
   "cell_type": "markdown",
   "id": "judicial-plenty",
   "metadata": {},
   "source": [
    "$$Vd_{max} = Vin$$"
   ]
  },
  {
   "cell_type": "code",
   "execution_count": 22,
   "id": "alien-pavilion",
   "metadata": {},
   "outputs": [
    {
     "name": "stdout",
     "output_type": "stream",
     "text": [
      "O valor máximo da tensão no diodo é 75 V\n"
     ]
    }
   ],
   "source": [
    "Vd_max = Vin\n",
    "print(\"O valor máximo da tensão no diodo é\", Vd_max, \"V\")"
   ]
  },
  {
   "cell_type": "markdown",
   "id": "correct-electricity",
   "metadata": {},
   "source": [
    "### Atuando como conversor Buck: "
   ]
  },
  {
   "cell_type": "markdown",
   "id": "following-charger",
   "metadata": {},
   "source": [
    "##### Valores iguais:"
   ]
  },
  {
   "cell_type": "code",
   "execution_count": 41,
   "id": "lesbian-anxiety",
   "metadata": {},
   "outputs": [
    {
     "name": "stdout",
     "output_type": "stream",
     "text": [
      "A tensão de entrada é 75 V\n",
      "A frequência de comutação é 20000 Hz\n",
      "A razão ciclíca é 0.4\n",
      "A resistência de carga é 50.0 ohms\n",
      "O indutor de saída é 0.0036 H\n",
      "O capacitor de saída é 1.6e-05 F\n"
     ]
    }
   ],
   "source": [
    "print(\"A tensão de entrada é\", Vin, \"V\")\n",
    "print(\"A frequência de comutação é\", fs, \"Hz\")\n",
    "print(\"A razão ciclíca é\", D)\n",
    "print(\"A resistência de carga é\", Ro, \"ohms\")\n",
    "print(\"O indutor de saída é\", \"%.4f\" % Lo, \"H\")\n",
    "print(\"O capacitor de saída é\", Co, \"F\")"
   ]
  },
  {
   "cell_type": "markdown",
   "id": "medium-today",
   "metadata": {},
   "source": [
    "#### Tensão de saída:"
   ]
  },
  {
   "cell_type": "markdown",
   "id": "negative-shanghai",
   "metadata": {},
   "source": [
    "$$Vout = VinD$$"
   ]
  },
  {
   "cell_type": "code",
   "execution_count": 43,
   "id": "unlike-notebook",
   "metadata": {},
   "outputs": [
    {
     "name": "stdout",
     "output_type": "stream",
     "text": [
      "A tensão de saída é 30.0 V\n"
     ]
    }
   ],
   "source": [
    "Vout2 = Vin*D\n",
    "print(\"A tensão de saída é\", Vout2, \"V\")"
   ]
  },
  {
   "cell_type": "markdown",
   "id": "chicken-attraction",
   "metadata": {},
   "source": [
    "#### Potência máxima de saída:* \n",
    "\n",
    "*mesma fórmula anterior"
   ]
  },
  {
   "cell_type": "code",
   "execution_count": 44,
   "id": "ahead-identifier",
   "metadata": {},
   "outputs": [
    {
     "name": "stdout",
     "output_type": "stream",
     "text": [
      "A potência máxima de saída é 18.0 W\n"
     ]
    }
   ],
   "source": [
    "Po2 = (Vout2**2)/Ro\n",
    "print(\"A potência máxima de saída é\", Po2, \"W\")"
   ]
  },
  {
   "cell_type": "markdown",
   "id": "international-assist",
   "metadata": {},
   "source": [
    "#### Corrente de saída:*\n",
    "\n",
    "*mesma fórmula anterior"
   ]
  },
  {
   "cell_type": "code",
   "execution_count": 45,
   "id": "nuclear-engineering",
   "metadata": {},
   "outputs": [
    {
     "name": "stdout",
     "output_type": "stream",
     "text": [
      "A corrente de saída é 0.600 A\n"
     ]
    }
   ],
   "source": [
    "Io2 = Po2/Vout2\n",
    "print(\"A corrente de saída é\", \"%.3f\" % Io2, \"A\")"
   ]
  },
  {
   "cell_type": "markdown",
   "id": "affiliated-dress",
   "metadata": {},
   "source": [
    "#### Corrente de ondulção do indutor e tensão de ondulação do capacitor:"
   ]
  },
  {
   "cell_type": "markdown",
   "id": "lesser-regular",
   "metadata": {},
   "source": [
    "$$\\Delta_{Il} = {(Vin-Vout)D \\over fsLo}$$"
   ]
  },
  {
   "cell_type": "markdown",
   "id": "advisory-bicycle",
   "metadata": {},
   "source": [
    "$$\\Delta_{Vc} = {\\Delta_{Il} \\over 8fsCo}$$"
   ]
  },
  {
   "cell_type": "code",
   "execution_count": 46,
   "id": "limiting-poetry",
   "metadata": {},
   "outputs": [
    {
     "name": "stdout",
     "output_type": "stream",
     "text": [
      "A ondulação de corrente no indutor é 0.250 A\n",
      "A ondulação de tensão no capacitor é 0.098 V\n"
     ]
    }
   ],
   "source": [
    "delta_Il2 = (Vin-Vout2)*D/(fs*Lo)\n",
    "delta_Vc2 = delta_Il2/(8*fs*Co)\n",
    "print(\"A ondulação de corrente no indutor é\", \"%.3f\" % delta_Il2, \"A\")\n",
    "print(\"A ondulação de tensão no capacitor é\", \"%.3f\" % delta_Vc2, \"V\")"
   ]
  },
  {
   "cell_type": "markdown",
   "id": "palestinian-latvia",
   "metadata": {},
   "source": [
    "#### Esforços:*\n",
    "\n",
    "*mesmas fórmulas anteriores"
   ]
  },
  {
   "cell_type": "code",
   "execution_count": 47,
   "id": "dedicated-swedish",
   "metadata": {},
   "outputs": [
    {
     "name": "stdout",
     "output_type": "stream",
     "text": [
      "O valor médio da corrente na chave é 0.240 A\n",
      "O valor eficaz da corrente na chave é 0.379 A\n",
      "O valor máximo da corrente na chave é 0.725 A\n",
      "O valor máximo da tensão na chave é 75 V\n",
      "O valor médio da corrente no diodo é 0.360 A\n",
      "O valor eficaz da corrente no diodo é 0.465 A\n",
      "O valor máximo da corrente no diodo é 0.725 A\n",
      "O valor máximo da tensão no diodo é 75 V\n"
     ]
    }
   ],
   "source": [
    "Is_md2 = D*Io2\n",
    "print(\"O valor médio da corrente na chave é\", \"%.3f\" % Is_md2, \"A\")\n",
    "Is_ef2 = (D**0.5)*Io2 \n",
    "print(\"O valor eficaz da corrente na chave é\", \"%.3f\" % Is_ef2, \"A\")\n",
    "Is_max2 = Io2 + delta_Il2/2 \n",
    "print(\"O valor máximo da corrente na chave é\", \"%.3f\" % Is_max2, \"A\")\n",
    "Vs_max2 = Vin\n",
    "print(\"O valor máximo da tensão na chave é\", Vs_max2, \"V\")\n",
    "Id_md2 = (1-D)*Io2 \n",
    "print(\"O valor médio da corrente no diodo é\", \"%.3f\" % Id_md2, \"A\")\n",
    "Id_ef2 = ((1-D)**0.5)*Io2 \n",
    "print(\"O valor eficaz da corrente no diodo é\", \"%.3f\" % Id_ef2, \"A\")\n",
    "Id_max2 = Io2 + delta_Il2/2 \n",
    "print(\"O valor máximo da corrente no diodo é\", \"%.3f\" % Id_max2, \"A\")\n",
    "Vd_max2 = Vin\n",
    "print(\"O valor máximo da tensão no diodo é\", Vd_max2, \"V\")"
   ]
  },
  {
   "cell_type": "markdown",
   "id": "olive-turkey",
   "metadata": {},
   "source": [
    "### Atuando como conversor Buck: "
   ]
  },
  {
   "cell_type": "markdown",
   "id": "sublime-letter",
   "metadata": {},
   "source": [
    "##### Valores iguais:"
   ]
  },
  {
   "cell_type": "code",
   "execution_count": 48,
   "id": "unknown-waste",
   "metadata": {},
   "outputs": [
    {
     "name": "stdout",
     "output_type": "stream",
     "text": [
      "A tensão de entrada é 75 V\n",
      "A frequência de comutação é 20000 Hz\n",
      "A razão ciclíca é 0.4\n",
      "A resistência de carga é 50.0 ohms\n",
      "O indutor de saída é 0.0036 H\n",
      "O capacitor de saída é 1.6e-05 F\n"
     ]
    }
   ],
   "source": [
    "print(\"A tensão de entrada é\", Vin, \"V\")\n",
    "print(\"A frequência de comutação é\", fs, \"Hz\")\n",
    "print(\"A razão ciclíca é\", D)\n",
    "print(\"A resistência de carga é\", Ro, \"ohms\")\n",
    "print(\"O indutor de saída é\", \"%.4f\" % Lo, \"H\")\n",
    "print(\"O capacitor de saída é\", Co, \"F\")"
   ]
  },
  {
   "cell_type": "markdown",
   "id": "underlying-hammer",
   "metadata": {},
   "source": [
    "#### Tensão de saída:"
   ]
  },
  {
   "cell_type": "markdown",
   "id": "pharmaceutical-leonard",
   "metadata": {},
   "source": [
    "$$Vout = {Vin \\over (1-D)}$$"
   ]
  },
  {
   "cell_type": "code",
   "execution_count": 49,
   "id": "geographic-recognition",
   "metadata": {},
   "outputs": [
    {
     "name": "stdout",
     "output_type": "stream",
     "text": [
      "A tensão de saída é 125.0 V\n"
     ]
    }
   ],
   "source": [
    "Vout3 = Vin/(1-D)\n",
    "print(\"A tensão de saída é\", Vout3, \"V\")"
   ]
  },
  {
   "cell_type": "markdown",
   "id": "sweet-heater",
   "metadata": {},
   "source": [
    "#### Potência máxima de saída:* \n",
    "\n",
    "*mesma fórmula anterior"
   ]
  },
  {
   "cell_type": "code",
   "execution_count": 50,
   "id": "unavailable-formation",
   "metadata": {},
   "outputs": [
    {
     "name": "stdout",
     "output_type": "stream",
     "text": [
      "A potência máxima de saída é 312.5 W\n"
     ]
    }
   ],
   "source": [
    "Po3 = (Vout3**2)/Ro\n",
    "print(\"A potência máxima de saída é\", Po3, \"W\")"
   ]
  },
  {
   "cell_type": "markdown",
   "id": "precise-cincinnati",
   "metadata": {},
   "source": [
    "#### Corrente de saída:*\n",
    "\n",
    "*mesma fórmula anterior"
   ]
  },
  {
   "cell_type": "code",
   "execution_count": 51,
   "id": "spoken-casino",
   "metadata": {
    "tags": []
   },
   "outputs": [
    {
     "name": "stdout",
     "output_type": "stream",
     "text": [
      "A corrente de saída é 2.500 A\n"
     ]
    }
   ],
   "source": [
    "Io3 = Po3/Vout3\n",
    "print(\"A corrente de saída é\", \"%.3f\" % Io3, \"A\")"
   ]
  },
  {
   "cell_type": "markdown",
   "id": "compact-royalty",
   "metadata": {},
   "source": [
    "#### Corrente de ondulção do indutor e tensão de ondulação do capacitor:"
   ]
  },
  {
   "cell_type": "markdown",
   "id": "recognized-restoration",
   "metadata": {},
   "source": [
    "$$\\Delta_{Il} = {VinD \\over fsLo}$$"
   ]
  },
  {
   "cell_type": "markdown",
   "id": "eight-linux",
   "metadata": {},
   "source": [
    "$$\\Delta_{Vc} = {IoD \\over fsCo}$$"
   ]
  },
  {
   "cell_type": "code",
   "execution_count": 52,
   "id": "prospective-theme",
   "metadata": {},
   "outputs": [
    {
     "name": "stdout",
     "output_type": "stream",
     "text": [
      "A ondulação de corrente no indutor é 0.417 A\n",
      "A ondulação de tensão no capacitor é 3.125 V\n"
     ]
    }
   ],
   "source": [
    "delta_Il3 = Vin*D/(fs*Lo)\n",
    "delta_Vc3 = D*Io3/(fs*Co)\n",
    "print(\"A ondulação de corrente no indutor é\", \"%.3f\" % delta_Il3, \"A\")\n",
    "print(\"A ondulação de tensão no capacitor é\", \"%.3f\" % delta_Vc3, \"V\")"
   ]
  },
  {
   "cell_type": "markdown",
   "id": "static-particular",
   "metadata": {},
   "source": [
    "#### Esforços:*\n",
    "\n",
    "*mesmas fórmulas anteriores"
   ]
  },
  {
   "cell_type": "code",
   "execution_count": 53,
   "id": "atlantic-norway",
   "metadata": {},
   "outputs": [
    {
     "name": "stdout",
     "output_type": "stream",
     "text": [
      "O valor médio da corrente na chave é 1.000 A\n",
      "O valor eficaz da corrente na chave é 1.581 A\n",
      "O valor máximo da corrente na chave é 2.708 A\n",
      "O valor máximo da tensão na chave é 75 V\n",
      "O valor médio da corrente no diodo é 1.500 A\n",
      "O valor eficaz da corrente no diodo é 1.936 A\n",
      "O valor máximo da corrente no diodo é 2.708 A\n",
      "O valor máximo da tensão no diodo é 75 V\n"
     ]
    }
   ],
   "source": [
    "Is_md3 = D*Io3\n",
    "print(\"O valor médio da corrente na chave é\", \"%.3f\" % Is_md3, \"A\")\n",
    "Is_ef3 = (D**0.5)*Io3\n",
    "print(\"O valor eficaz da corrente na chave é\", \"%.3f\" % Is_ef3, \"A\")\n",
    "Is_max3 = Io3 + delta_Il3/2 \n",
    "print(\"O valor máximo da corrente na chave é\", \"%.3f\" % Is_max3, \"A\")\n",
    "Vs_max3 = Vin\n",
    "print(\"O valor máximo da tensão na chave é\", Vs_max3, \"V\")\n",
    "Id_md3 = (1-D)*Io3\n",
    "print(\"O valor médio da corrente no diodo é\", \"%.3f\" % Id_md3, \"A\")\n",
    "Id_ef3 = ((1-D)**0.5)*Io3 \n",
    "print(\"O valor eficaz da corrente no diodo é\", \"%.3f\" % Id_ef3, \"A\")\n",
    "Id_max3 = Io3 + delta_Il3/2 \n",
    "print(\"O valor máximo da corrente no diodo é\", \"%.3f\" % Id_max3, \"A\")\n",
    "Vd_max3 = Vin\n",
    "print(\"O valor máximo da tensão no diodo é\", Vd_max3, \"V\")"
   ]
  },
  {
   "cell_type": "markdown",
   "id": "renewable-execution",
   "metadata": {},
   "source": [
    "### Projeto do Indutor:\n",
    "\n",
    "- Selecionar o núcleo magnético mais adequado;\n",
    "- Calcular o número de espiras;\n",
    "- Calcular tamanho do entreferro;\n",
    "- Escolher o condutor;\n",
    "- Verificar a possibilidade da execução do projeto."
   ]
  },
  {
   "cell_type": "markdown",
   "id": "hindu-olive",
   "metadata": {},
   "source": [
    "#### Selecionar o núcleo magnético adequado"
   ]
  },
  {
   "cell_type": "markdown",
   "id": "constant-rocket",
   "metadata": {},
   "source": [
    "##### Ferrita:"
   ]
  },
  {
   "cell_type": "code",
   "execution_count": 30,
   "id": "right-conference",
   "metadata": {},
   "outputs": [
    {
     "name": "stdout",
     "output_type": "stream",
     "text": [
      "O valor da densidade de fluxo magnético máximo é 0.3 T\n",
      "O valor do fator de utilização da área de enrolamento é 0.6\n",
      "O valor da densidade de corrente no condutor é 450 A/cm^2\n"
     ]
    }
   ],
   "source": [
    "B_max = 0.3\n",
    "print(\"O valor da densidade de fluxo magnético máximo é\", B_max, \"T\")\n",
    "Kw = 0.6\n",
    "print(\"O valor do fator de utilização da área de enrolamento é\", Kw)\n",
    "J = 450\n",
    "print(\"O valor da densidade de corrente no condutor é\", J, \"A/cm^2\")"
   ]
  },
  {
   "cell_type": "code",
   "execution_count": 31,
   "id": "established-baghdad",
   "metadata": {},
   "outputs": [
    {
     "name": "stdout",
     "output_type": "stream",
     "text": [
      "O valor máximo da corrente no indutor é 0.699 A\n",
      "O valor mínimo da corrente no indutor é 0.632 A\n",
      "O valor RMS da corrente no indutor é 0.666 A\n"
     ]
    }
   ],
   "source": [
    "Il_max = 0.699\n",
    "Il_min = 0.632\n",
    "Il_rms = 0.666\n",
    "print(\"O valor máximo da corrente no indutor é\", Il_max, \"A\")\n",
    "print(\"O valor mínimo da corrente no indutor é\", Il_min, \"A\")\n",
    "print(\"O valor RMS da corrente no indutor é\", Il_rms, \"A\")"
   ]
  },
  {
   "cell_type": "markdown",
   "id": "original-cache",
   "metadata": {},
   "source": [
    "$$AeAw = {LoI_{lmax}I_{lrms}10^4 \\over B_{max}K_{w}J}$$"
   ]
  },
  {
   "cell_type": "code",
   "execution_count": 32,
   "id": "combined-banks",
   "metadata": {},
   "outputs": [
    {
     "name": "stdout",
     "output_type": "stream",
     "text": [
      "A multiplicação entre a área efetiva e a área da janela do núcleo é 0.20690400000000003 cm^4\n"
     ]
    }
   ],
   "source": [
    "A_eA_w = Lo*Il_max*Il_rms*10**4/(B_max*Kw*J)\n",
    "print(\"A multiplicação entre a área efetiva e a área da janela do núcleo é\", A_eA_w,\"cm^4\")"
   ]
  },
  {
   "attachments": {
    "e78be1bd-a3a2-4625-976d-19b639a1d355.PNG": {
     "image/png": "[encoded data removed]"
    }
   },
   "cell_type": "markdown",
   "id": "owned-greenhouse",
   "metadata": {},
   "source": [
    "###### Tabela: Núcleos Magnéticos de ferrite com geométrica EE\n",
    "![nucleosferrita.PNG](attachment:e78be1bd-a3a2-4625-976d-19b639a1d355.PNG)"
   ]
  },
  {
   "cell_type": "code",
   "execution_count": 33,
   "id": "stuffed-simon",
   "metadata": {},
   "outputs": [
    {
     "name": "stdout",
     "output_type": "stream",
     "text": [
      "A multiplicação entre a área efetiva e a área da janela do núcleo será 1.02 cm^4 - valor mais próximo do valor calculado\n",
      "A área efetiva será 1.2 cm^2 - valor escolhido pela tabela\n",
      "A área da janela do núcleo será 0.85 cm^2 - valor escolhido pela tabela\n",
      "O comprimento do caminho magnético será 6.7 cm - valor escolhido pela tabela\n",
      "O comprimento médio de uma espira será 6.7 cm - valor escolhido pela tabela\n"
     ]
    }
   ],
   "source": [
    "A_eA_w = 1.02\n",
    "A_e = 1.2\n",
    "A_w = 0.85\n",
    "le = 6.7 \n",
    "lt = 6.7\n",
    "print(\"A multiplicação entre a área efetiva e a área da janela do núcleo será\", A_eA_w,\"cm^4 - valor mais próximo do valor calculado\")\n",
    "print(\"A área efetiva será\", A_e,\"cm^2 - valor escolhido pela tabela\")\n",
    "print(\"A área da janela do núcleo será\", A_w,\"cm^2 - valor escolhido pela tabela\")\n",
    "print(\"O comprimento do caminho magnético será\", le,\"cm - valor escolhido pela tabela\")\n",
    "print(\"O comprimento médio de uma espira será\", lt,\"cm - valor escolhido pela tabela\")"
   ]
  },
  {
   "cell_type": "markdown",
   "id": "given-bobby",
   "metadata": {},
   "source": [
    "#### Número de espiras"
   ]
  },
  {
   "cell_type": "markdown",
   "id": "regular-dublin",
   "metadata": {},
   "source": [
    "$$N = {LoI_{lmax}10^4 \\over B_{max}A_{e}}$$"
   ]
  },
  {
   "cell_type": "code",
   "execution_count": 34,
   "id": "expired-confidentiality",
   "metadata": {},
   "outputs": [
    {
     "name": "stdout",
     "output_type": "stream",
     "text": [
      "O número de espiras é 69\n"
     ]
    }
   ],
   "source": [
    "N = Lo*Il_max*10**4/(B_max*A_e)\n",
    "N = int(N)\n",
    "print(\"O número de espiras é\", N)"
   ]
  },
  {
   "cell_type": "markdown",
   "id": "rocky-robinson",
   "metadata": {},
   "source": [
    "#### Tamanho do entreferro"
   ]
  },
  {
   "cell_type": "markdown",
   "id": "terminal-coalition",
   "metadata": {},
   "source": [
    "$$l_{g} = {N2u_{o}A_{e} \\over Lo10^4}$$"
   ]
  },
  {
   "cell_type": "code",
   "execution_count": 35,
   "id": "australian-module",
   "metadata": {},
   "outputs": [
    {
     "name": "stdout",
     "output_type": "stream",
     "text": [
      "O tamanho do entreferro é 0.199 mm\n"
     ]
    }
   ],
   "source": [
    "uo = 4*3.1415926535897931*10**(-7)\n",
    "lg = N**2*uo*A_e/(Lo*10**4)\n",
    "print(\"O tamanho do entreferro é\", \"%.3f\" % (lg*10**3), \"mm\")"
   ]
  },
  {
   "cell_type": "markdown",
   "id": "warming-vector",
   "metadata": {},
   "source": [
    "#### Dimensionamento dos condutores"
   ]
  },
  {
   "cell_type": "markdown",
   "id": "demographic-today",
   "metadata": {},
   "source": [
    "$$I_{tot} = 1.1Nl_{t}$$"
   ]
  },
  {
   "cell_type": "markdown",
   "id": "canadian-proof",
   "metadata": {},
   "source": [
    "$$S_{fio} = {I_{lrms} \\over J}$$"
   ]
  },
  {
   "cell_type": "code",
   "execution_count": 36,
   "id": "upper-superior",
   "metadata": {},
   "outputs": [
    {
     "name": "stdout",
     "output_type": "stream",
     "text": [
      "O comprimento total do condutor é 508.530 m\n",
      "O valor mínimo da bitola é 0.148 mm^2\n"
     ]
    }
   ],
   "source": [
    "ltot = 1.1*N*lt\n",
    "print(\"O comprimento total do condutor é\", \"%.3f\" % ltot, \"m\")\n",
    "Sfio = Il_rms/J\n",
    "print(\"O valor mínimo da bitola é\", \"%.3f\" % (Sfio*10**2), \"mm^2\")"
   ]
  },
  {
   "attachments": {
    "09efab89-2636-4a21-9638-9cfd90e16dd4.png": {
     "image/png": "[encoded data removed]"
    }
   },
   "cell_type": "markdown",
   "id": "specialized-symbol",
   "metadata": {},
   "source": [
    "###### Tabela: Condutores de cobre:\n",
    "![tabela_awg.png](attachment:09efab89-2636-4a21-9638-9cfd90e16dd4.png)"
   ]
  },
  {
   "cell_type": "code",
   "execution_count": 37,
   "id": "separate-timber",
   "metadata": {},
   "outputs": [
    {
     "name": "stdout",
     "output_type": "stream",
     "text": [
      "O valor da bitola escolhido pela tabela acima foi 0.1626 mm^2 - AWG=25\n"
     ]
    }
   ],
   "source": [
    "Sfio = 0.1626\n",
    "print(\"O valor da bitola escolhido pela tabela acima foi\", Sfio, \"mm^2 - AWG=25\")"
   ]
  },
  {
   "cell_type": "markdown",
   "id": "prompt-paste",
   "metadata": {},
   "source": [
    "$$A_{w min} = {n_{cond}S_{fio}10^{-2}N \\over K_{w}}$$"
   ]
  },
  {
   "cell_type": "code",
   "execution_count": 38,
   "id": "consecutive-thursday",
   "metadata": {},
   "outputs": [
    {
     "name": "stdout",
     "output_type": "stream",
     "text": [
      "A valor mínimo da área da janela do núcleo será 0.18699000000000002 cm^2\n"
     ]
    }
   ],
   "source": [
    "ncond = 1\n",
    "A_w_min = ncond*Sfio*10**(-2)*N/Kw\n",
    "print(\"A valor mínimo da área da janela do núcleo será\", A_w_min,\"cm^2\")"
   ]
  },
  {
   "cell_type": "markdown",
   "id": "useful-magnitude",
   "metadata": {},
   "source": [
    "<font color='green'>Como Aw_min é menor que Aw a execução do projeto é possível!!!</font>"
   ]
  },
  {
   "cell_type": "markdown",
   "id": "acceptable-somalia",
   "metadata": {},
   "source": [
    "### Projeto do Dissipador de Calor:"
   ]
  },
  {
   "cell_type": "markdown",
   "id": "romance-truck",
   "metadata": {},
   "source": [
    "Para o caso sem dissipador, o calor circula da junção para o ambiente através do encapsulamento. Assim, o circuito térmico se resume apenas à resistência Rjc (junção-case) em série com Rca (case-ambiente), sendo estes parâmetros encontrados no datasheet do componenete. "
   ]
  },
  {
   "cell_type": "markdown",
   "id": "vertical-farming",
   "metadata": {},
   "source": [
    "Para saber se o componente irá precisar de do dissipador de calor é estimado a temperatura de junção para a aplicação em específico. "
   ]
  },
  {
   "cell_type": "markdown",
   "id": "tough-ebony",
   "metadata": {},
   "source": [
    "$$T_{j} = R_{ja}P_{T} + T_{a}$$"
   ]
  },
  {
   "cell_type": "markdown",
   "id": "stable-stanford",
   "metadata": {},
   "source": [
    "##### MOSFET (BSC100N10NSF):"
   ]
  },
  {
   "cell_type": "code",
   "execution_count": 39,
   "id": "professional-guitar",
   "metadata": {},
   "outputs": [
    {
     "name": "stdout",
     "output_type": "stream",
     "text": [
      "A temperatura de junção estimada é 52.634 °C\n"
     ]
    }
   ],
   "source": [
    "P_T = 42.49*10**(-3)\n",
    "R_ja = 62\n",
    "Ta = 50\n",
    "T_j_1 = R_ja*P_T + Ta\n",
    "print(\"A temperatura de junção estimada é\", \"%.3f\" % T_j_1, \"°C\")"
   ]
  },
  {
   "cell_type": "markdown",
   "id": "arabic-belly",
   "metadata": {},
   "source": [
    "<font color='green'>Como 52.63438°C é menor que 150°C (máxima temperatura de operação do transistor), o componente não precisa de um dissipador!!!</font>"
   ]
  },
  {
   "cell_type": "markdown",
   "id": "legal-semester",
   "metadata": {},
   "source": [
    "##### DIODO (MBR20100CT):"
   ]
  },
  {
   "cell_type": "code",
   "execution_count": 40,
   "id": "encouraging-humor",
   "metadata": {},
   "outputs": [
    {
     "name": "stdout",
     "output_type": "stream",
     "text": [
      "A temperatura de junção estimada é 61.133 °C\n"
     ]
    }
   ],
   "source": [
    "P_T2 = 185.55*10**(-3)\n",
    "R_ja2 = 60\n",
    "Ta2 = 50\n",
    "T_j_2 = R_ja2*P_T2 + Ta2\n",
    "print(\"A temperatura de junção estimada é\", T_j_2, \"°C\")"
   ]
  },
  {
   "cell_type": "markdown",
   "id": "indonesian-department",
   "metadata": {},
   "source": [
    "<font color='green'>Como 61.133°C é menor que 175°C (máxima temperatura de operação do diodo), o componente não precisa de um dissipador!!!</font>"
   ]
  }
 ],
 "metadata": {
  "kernelspec": {
   "display_name": "Python 3",
   "language": "python",
   "name": "python3"
  },
  "language_info": {
   "codemirror_mode": {
    "name": "ipython",
    "version": 3
   },
   "file_extension": ".py",
   "mimetype": "text/x-python",
   "name": "python",
   "nbconvert_exporter": "python",
   "pygments_lexer": "ipython3",
   "version": "3.8.1"
  }
 },
 "nbformat": 4,
 "nbformat_minor": 5
}
