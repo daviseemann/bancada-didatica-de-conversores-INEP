{
 "cells": [
  {
   "cell_type": "code",
   "execution_count": 1,
   "id": "behavioral-piece",
   "metadata": {},
   "outputs": [
    {
     "data": {
      "text/html": [
       "<script>$(\"div.input\").hide()</script>"
      ],
      "text/plain": [
       "<IPython.core.display.HTML object>"
      ]
     },
     "metadata": {},
     "output_type": "display_data"
    },
    {
     "data": {
      "application/vnd.jupyter.widget-view+json": {
       "model_id": "c90f4e7eed38458db481952a099e5989",
       "version_major": 2,
       "version_minor": 0
      },
      "text/plain": [
       "ToggleButton(value=False, description='Show code')"
      ]
     },
     "metadata": {},
     "output_type": "display_data"
    }
   ],
   "source": [
    "import ipywidgets as widgets\n",
    "from IPython.display import display, HTML\n",
    "\n",
    "javascript_functions = {False: \"hide()\", True: \"show()\"}\n",
    "button_descriptions  = {False: \"Show code\", True: \"Hide code\"}\n",
    "\n",
    "\n",
    "def toggle_code(state):\n",
    "\n",
    "    \"\"\"\n",
    "    Toggles the JavaScript show()/hide() function on the div.input element.\n",
    "    \"\"\"\n",
    "\n",
    "    output_string = \"<script>$(\\\"div.input\\\").{}</script>\"\n",
    "    output_args   = (javascript_functions[state],)\n",
    "    output        = output_string.format(*output_args)\n",
    "\n",
    "    display(HTML(output))\n",
    "\n",
    "\n",
    "def button_action(value):\n",
    "\n",
    "    \"\"\"\n",
    "    Calls the toggle_code function and updates the button description.\n",
    "    \"\"\"\n",
    "\n",
    "    state = value.new\n",
    "\n",
    "    toggle_code(state)\n",
    "\n",
    "    value.owner.description = button_descriptions[state]\n",
    "\n",
    "\n",
    "state = False\n",
    "toggle_code(state)\n",
    "\n",
    "button = widgets.ToggleButton(state, description = button_descriptions[state])\n",
    "button.observe(button_action, \"value\")\n",
    "\n",
    "display(button)"
   ]
  },
  {
   "cell_type": "markdown",
   "id": "hidden-instrument",
   "metadata": {},
   "source": [
    "Buck Converter\n",
    "=========\n",
    "#### Conversor abaixador\n",
    "\n",
    "O conversor de buck tem uma estrutura simples e de operação direta, uma ótima opção de conversor CC-CC PWM. A tensão de saída de um conversor buck é sempre menor que a tensão de entrada, por isso ele é conhecido também como conversor abaixador.\n",
    "\n",
    "O conversor buck é composto por uma fonte de tensão contínua, um transistor que funciona como uma chave, um diodo, um indutor, um capacitor e a carga. A chave irá controlar em qual estado estará o circuito, on-time ou off-time. Durante o período on-time, a chave é fechada e o diodo está no estado desligado. Neste intervalo a fonte de tensão transfere energia para o indutor e a corrente sobre ele aumenta. Já no período off-time, a chave estará aberta e o diodo ligado. Assim, a energia armazenada no indutor é liberada para a carga e a corrente no indutor diminui. \n",
    "\n",
    "O estado estacionário no conversor é atingido quando a transferência de energia dentro do tempo torna-se a mesma que a liberação de energia fora do tempo. Nesse estado a corrente no indutor estabele uma forma de onda triangular periódica e a tensão de saída torna-se quase constante com um pequeno componente de ondulação. "
   ]
  },
  {
   "attachments": {
    "buck.png": {
     "image/png": "[encoded data removed]"
    }
   },
   "cell_type": "markdown",
   "id": "consolidated-imaging",
   "metadata": {},
   "source": [
    "#### Esquemático de um conversor buck\n",
    "\n",
    "![buck.png](attachment:buck.png)"
   ]
  },
  {
   "cell_type": "markdown",
   "id": "figured-fellowship",
   "metadata": {},
   "source": [
    "#### Ganho estático do conversor \n",
    "\n"
   ]
  },
  {
   "cell_type": "markdown",
   "id": "former-tyler",
   "metadata": {},
   "source": [
    "#### Etapas do projeto:\n",
    "\n",
    "  1. Definir parâmetros de projeto (Vin, Vout, Po, fs, variação de IL e de Vc)\n",
    "  2. Calcular a razão cíclica (D=Vout/Vin)\n",
    "  3. Calcular indutância (L=(Vin - Vout).D/fs.(variação de IL)\n",
    "  4. Calcular a capacitância (C=variação de IL/8.fs.variação de Vc)\n",
    "  5. Calcular os esforços nos semicondutores (Ismd, Isef, Ismax, Idmds, Idef, Idmax, Vsmax e Vdmax)"
   ]
  },
  {
   "cell_type": "markdown",
   "id": "suitable-parker",
   "metadata": {},
   "source": [
    "#### Tensão de Entrada:"
   ]
  },
  {
   "cell_type": "code",
   "execution_count": 2,
   "id": "former-source",
   "metadata": {},
   "outputs": [
    {
     "name": "stdout",
     "output_type": "stream",
     "text": [
      "A tensão de entrada é 75 V\n"
     ]
    }
   ],
   "source": [
    "Vin = 75\n",
    "print(\"A tensão de entrada é\", Vin, \"V\")"
   ]
  },
  {
   "cell_type": "markdown",
   "id": "hourly-bailey",
   "metadata": {},
   "source": [
    "#### Tensão de Saída: "
   ]
  },
  {
   "cell_type": "code",
   "execution_count": 3,
   "id": "otherwise-honduras",
   "metadata": {},
   "outputs": [
    {
     "name": "stdout",
     "output_type": "stream",
     "text": [
      "A tensão de saída é 30 V\n"
     ]
    }
   ],
   "source": [
    "Vout = 30\n",
    "print(\"A tensão de saída é\", Vout, \"V\")"
   ]
  },
  {
   "cell_type": "markdown",
   "id": "eastern-banner",
   "metadata": {},
   "source": [
    "#### Potência máxima de saída:"
   ]
  },
  {
   "cell_type": "code",
   "execution_count": 4,
   "id": "straight-shock",
   "metadata": {},
   "outputs": [
    {
     "name": "stdout",
     "output_type": "stream",
     "text": [
      "A potência máxima de saída é 20 W\n"
     ]
    }
   ],
   "source": [
    "Po = 20\n",
    "print(\"A potência máxima de saída é\", Po, \"W\")"
   ]
  },
  {
   "cell_type": "markdown",
   "id": "restricted-absorption",
   "metadata": {},
   "source": [
    "#### Frequência de comutação: "
   ]
  },
  {
   "cell_type": "code",
   "execution_count": 5,
   "id": "dutch-learning",
   "metadata": {},
   "outputs": [
    {
     "name": "stdout",
     "output_type": "stream",
     "text": [
      "A frequência de comutação é 20000 Hz\n"
     ]
    }
   ],
   "source": [
    "fs = 20000\n",
    "print(\"A frequência de comutação é\", fs, \"Hz\")"
   ]
  },
  {
   "cell_type": "markdown",
   "id": "unexpected-sullivan",
   "metadata": {},
   "source": [
    "#### Razão ciclíca:"
   ]
  },
  {
   "cell_type": "markdown",
   "id": "applicable-platinum",
   "metadata": {},
   "source": [
    "$$D = {Vout \\over Vin}$$"
   ]
  },
  {
   "cell_type": "code",
   "execution_count": 6,
   "id": "incorporated-swedish",
   "metadata": {},
   "outputs": [
    {
     "name": "stdout",
     "output_type": "stream",
     "text": [
      "A razão ciclíca é 0.4\n"
     ]
    }
   ],
   "source": [
    "D = Vout/Vin\n",
    "print(\"A razão ciclíca é\", D)"
   ]
  },
  {
   "cell_type": "markdown",
   "id": "fewer-growing",
   "metadata": {},
   "source": [
    "#### Corrente de saída:"
   ]
  },
  {
   "cell_type": "markdown",
   "id": "sufficient-queue",
   "metadata": {},
   "source": [
    "$$Io = {Po \\over Vout}$$"
   ]
  },
  {
   "cell_type": "code",
   "execution_count": 7,
   "id": "affecting-christopher",
   "metadata": {},
   "outputs": [
    {
     "name": "stdout",
     "output_type": "stream",
     "text": [
      "A corrente de saída é 0.6666666666666666 A\n"
     ]
    }
   ],
   "source": [
    "Io = Po/Vout\n",
    "print(\"A corrente de saída é\", Io, \"A\")"
   ]
  },
  {
   "cell_type": "markdown",
   "id": "angry-removal",
   "metadata": {},
   "source": [
    "#### Ondulação de corrente no indutor:"
   ]
  },
  {
   "cell_type": "markdown",
   "id": "stone-sellers",
   "metadata": {},
   "source": [
    "###### Ondulação de 10%:\n",
    "$$\\Delta_{Il} = 0.1Io$$"
   ]
  },
  {
   "cell_type": "code",
   "execution_count": 8,
   "id": "american-pennsylvania",
   "metadata": {},
   "outputs": [
    {
     "name": "stdout",
     "output_type": "stream",
     "text": [
      "A ondulação de corrente no indutor é 0.06666666666666667 A\n"
     ]
    }
   ],
   "source": [
    "delta_Il = 0.1*Io\n",
    "print(\"A ondulação de corrente no indutor é\", delta_Il, \"A\")"
   ]
  },
  {
   "cell_type": "markdown",
   "id": "armed-richmond",
   "metadata": {},
   "source": [
    "#### Ondulação de tensão no capacitor:"
   ]
  },
  {
   "cell_type": "markdown",
   "id": "solid-julian",
   "metadata": {},
   "source": [
    "###### Ondulação de 1%:\n",
    "$$\\Delta_{Vc} = 0.01Vout$$"
   ]
  },
  {
   "cell_type": "code",
   "execution_count": 9,
   "id": "alien-tender",
   "metadata": {},
   "outputs": [
    {
     "name": "stdout",
     "output_type": "stream",
     "text": [
      "A ondulação de tensão no capacitor é 0.3 V\n"
     ]
    }
   ],
   "source": [
    "delta_Vc = 0.01*Vout\n",
    "print(\"A ondulação de tensão no capacitor é\", delta_Vc, \"V\")"
   ]
  },
  {
   "cell_type": "markdown",
   "id": "trained-summer",
   "metadata": {},
   "source": [
    "#### Resistência de carga:"
   ]
  },
  {
   "cell_type": "markdown",
   "id": "stone-debate",
   "metadata": {},
   "source": [
    "$$Ro = {Vout^2 \\over Po}$$"
   ]
  },
  {
   "cell_type": "code",
   "execution_count": 10,
   "id": "maritime-comparison",
   "metadata": {},
   "outputs": [
    {
     "name": "stdout",
     "output_type": "stream",
     "text": [
      "A resistência de carga é 45.0 ohms\n"
     ]
    }
   ],
   "source": [
    "Ro = (Vout**2)/Po\n",
    "print(\"A resistência de carga é\", Ro, \"ohms\")"
   ]
  },
  {
   "cell_type": "markdown",
   "id": "breathing-bolivia",
   "metadata": {},
   "source": [
    "#### Indutor de Saída:"
   ]
  },
  {
   "cell_type": "markdown",
   "id": "geographic-clerk",
   "metadata": {},
   "source": [
    "$$Lo = {(Vin-Vout)D \\over fs\\Delta_{Il}}$$"
   ]
  },
  {
   "cell_type": "code",
   "execution_count": 11,
   "id": "separate-decade",
   "metadata": {},
   "outputs": [
    {
     "name": "stdout",
     "output_type": "stream",
     "text": [
      "O indutor de saída é 0.013500000000000002 H\n"
     ]
    }
   ],
   "source": [
    "Lo = (Vin-Vout)*D/(fs*delta_Il)\n",
    "print(\"O indutor de saída é\", Lo, \"H\")"
   ]
  },
  {
   "cell_type": "markdown",
   "id": "framed-unemployment",
   "metadata": {},
   "source": [
    "#### Capacitor de Saída:"
   ]
  },
  {
   "cell_type": "markdown",
   "id": "touched-strap",
   "metadata": {},
   "source": [
    "$$Co = {\\Delta_{Il} \\over 8fs\\Delta_{Vc}}$$"
   ]
  },
  {
   "cell_type": "code",
   "execution_count": 12,
   "id": "identical-newark",
   "metadata": {},
   "outputs": [
    {
     "name": "stdout",
     "output_type": "stream",
     "text": [
      "O capacitor de saída é 1.388888888888889e-06 F\n"
     ]
    }
   ],
   "source": [
    "Co = delta_Il/(8*fs*delta_Vc)\n",
    "print(\"O capacitor de saída é\", Co, \"F\")"
   ]
  },
  {
   "cell_type": "markdown",
   "id": "sustainable-world",
   "metadata": {},
   "source": [
    "### Esforços na chave:\n",
    "\n",
    "#### Valor médio da corrente na chave:"
   ]
  },
  {
   "cell_type": "markdown",
   "id": "surprised-breath",
   "metadata": {},
   "source": [
    "$$Is_{md} = DIo$$"
   ]
  },
  {
   "cell_type": "code",
   "execution_count": 13,
   "id": "constant-cruise",
   "metadata": {},
   "outputs": [
    {
     "name": "stdout",
     "output_type": "stream",
     "text": [
      "O valor médio da corrente na chave é 0.26666666666666666 A\n"
     ]
    }
   ],
   "source": [
    "Is_md = D*Io \n",
    "print(\"O valor médio da corrente na chave é\", Is_md, \"A\")"
   ]
  },
  {
   "cell_type": "markdown",
   "id": "blessed-sunglasses",
   "metadata": {},
   "source": [
    "#### Valor eficaz da corrente na chave:"
   ]
  },
  {
   "cell_type": "markdown",
   "id": "dress-postcard",
   "metadata": {},
   "source": [
    "$$Is_{ef} = \\sqrt{D}Io$$"
   ]
  },
  {
   "cell_type": "code",
   "execution_count": 14,
   "id": "integrated-field",
   "metadata": {},
   "outputs": [
    {
     "name": "stdout",
     "output_type": "stream",
     "text": [
      "O valor eficaz da corrente na chave é 0.4216370213557839 A\n"
     ]
    }
   ],
   "source": [
    "Is_ef = (D**0.5)*Io \n",
    "print(\"O valor eficaz da corrente na chave é\", Is_ef, \"A\")"
   ]
  },
  {
   "cell_type": "markdown",
   "id": "reduced-incentive",
   "metadata": {},
   "source": [
    "#### Valor máximo da corrente na chave:"
   ]
  },
  {
   "cell_type": "markdown",
   "id": "connected-membrane",
   "metadata": {},
   "source": [
    "$$Is_{max} = Io + {\\Delta_{Il} \\over 2}$$"
   ]
  },
  {
   "cell_type": "code",
   "execution_count": 15,
   "id": "working-drink",
   "metadata": {},
   "outputs": [
    {
     "name": "stdout",
     "output_type": "stream",
     "text": [
      "O valor máximo da corrente na chave é 0.7 A\n"
     ]
    }
   ],
   "source": [
    "Is_max = Io + delta_Il/2 \n",
    "print(\"O valor máximo da corrente na chave é\", Is_max, \"A\")"
   ]
  },
  {
   "cell_type": "markdown",
   "id": "initial-implement",
   "metadata": {},
   "source": [
    "#### Valor máximo da tensão na chave:"
   ]
  },
  {
   "cell_type": "markdown",
   "id": "blessed-bible",
   "metadata": {},
   "source": [
    "$$Vs_{max} = Vin$$"
   ]
  },
  {
   "cell_type": "code",
   "execution_count": 16,
   "id": "convertible-stand",
   "metadata": {},
   "outputs": [
    {
     "name": "stdout",
     "output_type": "stream",
     "text": [
      "O valor máximo da tensão na chave é 75 V\n"
     ]
    }
   ],
   "source": [
    "Vs_max = Vin\n",
    "print(\"O valor máximo da tensão na chave é\", Vs_max, \"V\")"
   ]
  },
  {
   "cell_type": "markdown",
   "id": "surprising-inquiry",
   "metadata": {},
   "source": [
    "### Esforços no diodo:\n",
    "\n",
    "#### Valor médio da corrente no diodo:"
   ]
  },
  {
   "cell_type": "markdown",
   "id": "efficient-sampling",
   "metadata": {},
   "source": [
    "$$Id_{md} = (1-D)Io$$"
   ]
  },
  {
   "cell_type": "code",
   "execution_count": 17,
   "id": "according-forty",
   "metadata": {},
   "outputs": [
    {
     "name": "stdout",
     "output_type": "stream",
     "text": [
      "O valor médio da corrente no diodo é 0.39999999999999997 A\n"
     ]
    }
   ],
   "source": [
    "Id_md = (1-D)*Io \n",
    "print(\"O valor médio da corrente no diodo é\", Id_md, \"A\")"
   ]
  },
  {
   "cell_type": "markdown",
   "id": "interpreted-shelf",
   "metadata": {},
   "source": [
    "#### Valor eficaz da corrente no diodo:"
   ]
  },
  {
   "cell_type": "markdown",
   "id": "powered-directive",
   "metadata": {},
   "source": [
    "$$Id_{ef} = \\sqrt{(1-D)}Io$$"
   ]
  },
  {
   "cell_type": "code",
   "execution_count": 18,
   "id": "impossible-enzyme",
   "metadata": {},
   "outputs": [
    {
     "name": "stdout",
     "output_type": "stream",
     "text": [
      "O valor eficaz da corrente no diodo é 0.5163977794943222 A\n"
     ]
    }
   ],
   "source": [
    "Id_ef = ((1-D)**0.5)*Io \n",
    "print(\"O valor eficaz da corrente no diodo é\", Id_ef, \"A\")"
   ]
  },
  {
   "cell_type": "markdown",
   "id": "hungarian-experience",
   "metadata": {},
   "source": [
    "#### Valor máximo da corrente no diodo:"
   ]
  },
  {
   "cell_type": "markdown",
   "id": "composite-assets",
   "metadata": {},
   "source": [
    "$$Id_{max} = Io + {\\Delta_{Il} \\over s}$$"
   ]
  },
  {
   "cell_type": "code",
   "execution_count": 19,
   "id": "useful-watson",
   "metadata": {},
   "outputs": [
    {
     "name": "stdout",
     "output_type": "stream",
     "text": [
      "O valor máximo da corrente no diodo é 0.7 A\n"
     ]
    }
   ],
   "source": [
    "Id_max = Io + delta_Il/2 \n",
    "print(\"O valor máximo da corrente no diodo é\", Id_max, \"A\")"
   ]
  },
  {
   "cell_type": "markdown",
   "id": "hourly-advertiser",
   "metadata": {},
   "source": [
    "#### Valor máximo da tensão no diodo:"
   ]
  },
  {
   "cell_type": "markdown",
   "id": "improved-capitol",
   "metadata": {},
   "source": [
    "$$Vd_{max} = Vin$$"
   ]
  },
  {
   "cell_type": "code",
   "execution_count": 20,
   "id": "serious-lloyd",
   "metadata": {},
   "outputs": [
    {
     "name": "stdout",
     "output_type": "stream",
     "text": [
      "O valor máximo da tensão no diodo é 75 V\n"
     ]
    }
   ],
   "source": [
    "Vd_max = Vin\n",
    "print(\"O valor máximo da tensão no diodo é\", Vd_max, \"V\")"
   ]
  },
  {
   "cell_type": "markdown",
   "id": "fossil-stack",
   "metadata": {},
   "source": [
    "#### Resistência crítica:"
   ]
  },
  {
   "cell_type": "markdown",
   "id": "elect-pasta",
   "metadata": {},
   "source": [
    "$$Rcrit = {2Lofs \\over (1-D)}$$"
   ]
  },
  {
   "cell_type": "code",
   "execution_count": 21,
   "id": "professional-pacific",
   "metadata": {},
   "outputs": [
    {
     "name": "stdout",
     "output_type": "stream",
     "text": [
      "A resistência crítica é 900.0000000000002 ohms\n"
     ]
    }
   ],
   "source": [
    "Rcrit = 2*Lo*fs/(1-D)\n",
    "print(\"A resistência crítica é\", Rcrit, \"ohms\")"
   ]
  },
  {
   "cell_type": "code",
   "execution_count": 22,
   "id": "indirect-double",
   "metadata": {},
   "outputs": [
    {
     "data": {
      "image/png": "[encoded data removed]",
      "text/plain": [
       "<Figure size 432x288 with 1 Axes>"
      ]
     },
     "metadata": {
      "needs_background": "light"
     },
     "output_type": "display_data"
    }
   ],
   "source": [
    "import numpy  as np\n",
    "import matplotlib.pyplot as plt\n",
    "data = np.loadtxt('tensao_no_indutor.txt')\n",
    "\n",
    "\n",
    "x = data[:, 0]\n",
    "y = data[:, 1]\n",
    "plt.plot(x, y,'-')\n",
    "\n",
    "plt.title('Tensão no Indutor')\n",
    "plt.xlabel('tempo (s)')\n",
    "plt.ylabel('tensão (V)')\n",
    "plt.show()"
   ]
  },
  {
   "cell_type": "code",
   "execution_count": 23,
   "id": "caring-samuel",
   "metadata": {},
   "outputs": [
    {
     "data": {
      "image/png": "[encoded data removed]",
      "text/plain": [
       "<Figure size 432x288 with 1 Axes>"
      ]
     },
     "metadata": {
      "needs_background": "light"
     },
     "output_type": "display_data"
    }
   ],
   "source": [
    "import numpy  as np\n",
    "import matplotlib.pyplot as plt\n",
    "data = np.loadtxt('corrente_no_indutor.txt')\n",
    "\n",
    "\n",
    "x = data[:, 0]\n",
    "y = data[:, 1]\n",
    "plt.plot(x, y,'-')\n",
    "\n",
    "plt.title('Corrente no Indutor')\n",
    "plt.xlabel('tempo (s)')\n",
    "plt.ylabel('corrente (A)')\n",
    "plt.show()"
   ]
  },
  {
   "cell_type": "code",
   "execution_count": 24,
   "id": "twelve-accent",
   "metadata": {},
   "outputs": [
    {
     "data": {
      "image/png": "[encoded data removed]",
      "text/plain": [
       "<Figure size 432x288 with 1 Axes>"
      ]
     },
     "metadata": {
      "needs_background": "light"
     },
     "output_type": "display_data"
    }
   ],
   "source": [
    "import numpy  as np\n",
    "import matplotlib.pyplot as plt\n",
    "data = np.loadtxt('vout.txt')\n",
    "\n",
    "\n",
    "x = data[:, 0]\n",
    "y = data[:, 1]\n",
    "plt.plot(x, y,'-')\n",
    "\n",
    "plt.title('Tensão de saída')\n",
    "plt.xlabel('tempo (s)')\n",
    "plt.ylabel('tensão (V)')\n",
    "plt.show()"
   ]
  }
 ],
 "metadata": {
  "kernelspec": {
   "display_name": "Python 3",
   "language": "python",
   "name": "python3"
  },
  "language_info": {
   "codemirror_mode": {
    "name": "ipython",
    "version": 3
   },
   "file_extension": ".py",
   "mimetype": "text/x-python",
   "name": "python",
   "nbconvert_exporter": "python",
   "pygments_lexer": "ipython3",
   "version": "3.8.1"
  }
 },
 "nbformat": 4,
 "nbformat_minor": 5
}
